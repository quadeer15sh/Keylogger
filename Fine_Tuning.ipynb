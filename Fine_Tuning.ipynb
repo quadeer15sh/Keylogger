{
  "nbformat": 4,
  "nbformat_minor": 0,
  "metadata": {
    "colab": {
      "name": "Fine Tuning",
      "provenance": [],
      "collapsed_sections": []
    },
    "kernelspec": {
      "name": "python3",
      "display_name": "Python 3"
    },
    "language_info": {
      "name": "python"
    },
    "accelerator": "GPU"
  },
  "cells": [
    {
      "cell_type": "code",
      "execution_count": null,
      "metadata": {
        "colab": {
          "base_uri": "https://localhost:8080/"
        },
        "id": "Z1hqhRZlOSn6",
        "outputId": "a0d34e6f-a8f0-40b7-f8aa-c6dfb11a1787"
      },
      "outputs": [
        {
          "output_type": "stream",
          "name": "stdout",
          "text": [
            "Tue Apr 12 13:56:16 2022       \n",
            "+-----------------------------------------------------------------------------+\n",
            "| NVIDIA-SMI 460.32.03    Driver Version: 460.32.03    CUDA Version: 11.2     |\n",
            "|-------------------------------+----------------------+----------------------+\n",
            "| GPU  Name        Persistence-M| Bus-Id        Disp.A | Volatile Uncorr. ECC |\n",
            "| Fan  Temp  Perf  Pwr:Usage/Cap|         Memory-Usage | GPU-Util  Compute M. |\n",
            "|                               |                      |               MIG M. |\n",
            "|===============================+======================+======================|\n",
            "|   0  Tesla P100-PCIE...  Off  | 00000000:00:04.0 Off |                    0 |\n",
            "| N/A   39C    P0    34W / 250W |    377MiB / 16280MiB |      0%      Default |\n",
            "|                               |                      |                  N/A |\n",
            "+-------------------------------+----------------------+----------------------+\n",
            "                                                                               \n",
            "+-----------------------------------------------------------------------------+\n",
            "| Processes:                                                                  |\n",
            "|  GPU   GI   CI        PID   Type   Process name                  GPU Memory |\n",
            "|        ID   ID                                                   Usage      |\n",
            "|=============================================================================|\n",
            "+-----------------------------------------------------------------------------+\n"
          ]
        }
      ],
      "source": [
        "!nvidia-smi"
      ]
    },
    {
      "cell_type": "code",
      "source": [
        "import tensorflow as tf\n",
        "tf.test.gpu_device_name()"
      ],
      "metadata": {
        "colab": {
          "base_uri": "https://localhost:8080/",
          "height": 35
        },
        "id": "HuVHLviROlv6",
        "outputId": "6e9491fd-010b-4673-8c58-4099b1f59abe"
      },
      "execution_count": null,
      "outputs": [
        {
          "output_type": "execute_result",
          "data": {
            "text/plain": [
              "'/device:GPU:0'"
            ],
            "application/vnd.google.colaboratory.intrinsic+json": {
              "type": "string"
            }
          },
          "metadata": {},
          "execution_count": 10
        }
      ]
    },
    {
      "cell_type": "code",
      "source": [
        "# This Python 3 environment comes with many helpful analytics libraries installed\n",
        "# It is defined by the kaggle/python Docker image: https://github.com/kaggle/docker-python\n",
        "# For example, here's several helpful packages to load\n",
        "\n",
        "import numpy as np # linear algebra\n",
        "import pandas as pd # data processing, CSV file I/O (e.g. pd.read_csv)\n",
        "\n",
        "# Input data files are available in the read-only \"../input/\" directory\n",
        "# For example, running this (by clicking run or pressing Shift+Enter) will list all files under the input directory\n",
        "import tensorflow_datasets as tfds\n",
        "import tensorflow_datasets.public_api as tfds\n",
        "import matplotlib.pyplot as plt\n",
        "# You can write up to 20GB to the current directory (/kaggle/working/) that gets preserved as output when you create a version using \"Save & Run All\" \n",
        "# You can also write temporary files to /kaggle/temp/, but they won't be saved outside of the current session"
      ],
      "metadata": {
        "id": "IkAtwObkO-fm"
      },
      "execution_count": null,
      "outputs": []
    },
    {
      "cell_type": "code",
      "source": [
        "train_set, info = tfds.load('cifar10',split='train[:80%]',as_supervised=True, with_info=True)\n",
        "valid_set = tfds.load('cifar10',split='train[80%:]',as_supervised=True)\n",
        "test_set = tfds.load('cifar10',split='test',as_supervised=True)"
      ],
      "metadata": {
        "id": "Cp7G8i1gPCqa"
      },
      "execution_count": null,
      "outputs": []
    },
    {
      "cell_type": "code",
      "source": [
        "#sample data \n",
        "fig = tfds.show_examples(train_set,info)"
      ],
      "metadata": {
        "colab": {
          "base_uri": "https://localhost:8080/",
          "height": 534
        },
        "id": "neKSXqO8PEkf",
        "outputId": "7ff09daf-36af-4f5e-ce7b-26cef42b3964"
      },
      "execution_count": null,
      "outputs": [
        {
          "output_type": "display_data",
          "data": {
            "text/plain": [
              "<Figure size 648x648 with 9 Axes>"
            ],
            "image/png": "[encoded data removed]"
          },
          "metadata": {}
        }
      ]
    },
    {
      "cell_type": "code",
      "source": [
        "info"
      ],
      "metadata": {
        "colab": {
          "base_uri": "https://localhost:8080/"
        },
        "id": "PVml6N0ausms",
        "outputId": "98ad0f5c-d96b-4b9b-d03b-332659018f09"
      },
      "execution_count": null,
      "outputs": [
        {
          "output_type": "execute_result",
          "data": {
            "text/plain": [
              "tfds.core.DatasetInfo(\n",
              "    name='cifar10',\n",
              "    version=3.0.2,\n",
              "    description='The CIFAR-10 dataset consists of 60000 32x32 colour images in 10 classes, with 6000 images per class. There are 50000 training images and 10000 test images.',\n",
              "    homepage='https://www.cs.toronto.edu/~kriz/cifar.html',\n",
              "    features=FeaturesDict({\n",
              "        'id': Text(shape=(), dtype=tf.string),\n",
              "        'image': Image(shape=(32, 32, 3), dtype=tf.uint8),\n",
              "        'label': ClassLabel(shape=(), dtype=tf.int64, num_classes=10),\n",
              "    }),\n",
              "    total_num_examples=60000,\n",
              "    splits={\n",
              "        'test': 10000,\n",
              "        'train': 50000,\n",
              "    },\n",
              "    supervised_keys=('image', 'label'),\n",
              "    citation=\"\"\"@TECHREPORT{Krizhevsky09learningmultiple,\n",
              "        author = {Alex Krizhevsky},\n",
              "        title = {Learning multiple layers of features from tiny images},\n",
              "        institution = {},\n",
              "        year = {2009}\n",
              "    }\"\"\",\n",
              "    redistribution_info=,\n",
              ")"
            ]
          },
          "metadata": {},
          "execution_count": 324
        }
      ]
    },
    {
      "cell_type": "code",
      "source": [
        "!pip install tensorflow_addons"
      ],
      "metadata": {
        "colab": {
          "base_uri": "https://localhost:8080/"
        },
        "id": "p6RlShPmpnQi",
        "outputId": "3f4ab92f-3fd8-43d0-c799-ad68b660b0c1"
      },
      "execution_count": null,
      "outputs": [
        {
          "output_type": "stream",
          "name": "stdout",
          "text": [
            "Requirement already satisfied: tensorflow_addons in /usr/local/lib/python3.7/dist-packages (0.16.1)\n",
            "Requirement already satisfied: typeguard>=2.7 in /usr/local/lib/python3.7/dist-packages (from tensorflow_addons) (2.7.1)\n"
          ]
        }
      ]
    },
    {
      "cell_type": "code",
      "source": [
        "import tensorflow as tf\n",
        "import tensorflow_addons as tfa\n",
        "from tensorflow.keras.models import Sequential, Model\n",
        "from tensorflow.keras.preprocessing.image import load_img, img_to_array\n",
        "from tensorflow.keras.layers import Dense, Flatten, GlobalAveragePooling2D, Conv2D, MaxPooling2D\n",
        "from tensorflow.keras.preprocessing.image import ImageDataGenerator\n",
        "from tensorflow.keras.callbacks import ModelCheckpoint, EarlyStopping\n",
        "from tensorflow.keras.applications import DenseNet201, VGG16, VGG19, ResNet50, InceptionV3, DenseNet201, Xception, MobileNetV2, EfficientNetB5\n",
        "from tensorflow.keras.applications.vgg16 import preprocess_input"
      ],
      "metadata": {
        "id": "O0cTp32ZPOCk"
      },
      "execution_count": null,
      "outputs": []
    },
    {
      "cell_type": "code",
      "source": [
        "def preprocess(image,label):\n",
        "    \n",
        "    image = tf.image.resize(image,[224,224])\n",
        "    image = tf.cast(image,tf.float32)\n",
        "    final_image = (image/255)\n",
        "\n",
        "    return final_image, label\n",
        "\n",
        "def augmentation(image,label):\n",
        "    image = tf.image.resize(image,[224,224])\n",
        "    image = tf.cast(image,tf.float32)\n",
        "    image = (image/255)\n",
        "    image = tf.image.random_flip_left_right(image)\n",
        "    final_image = tfa.image.rotate(image,40,interpolation='NEAREST')\n",
        "\n",
        "    return final_image, label"
      ],
      "metadata": {
        "id": "QL33i8K9OlJn"
      },
      "execution_count": null,
      "outputs": []
    },
    {
      "cell_type": "code",
      "source": [
        "batch_size = 64\n",
        "train_set = train_set.shuffle(1000)\n",
        "train_set = train_set.map(preprocess).batch(batch_size).prefetch(1)\n",
        "valid_set = valid_set.map(preprocess).batch(batch_size).prefetch(1)\n",
        "test_set = test_set.map(preprocess).batch(batch_size).prefetch(1)"
      ],
      "metadata": {
        "id": "CnNXa485mzV8"
      },
      "execution_count": null,
      "outputs": []
    },
    {
      "cell_type": "code",
      "source": [
        "for images, labels in test_set.take(1):  # only take first element of dataset\n",
        "    numpy_images = images.numpy()\n",
        "    numpy_labels = labels.numpy()"
      ],
      "metadata": {
        "id": "jDm-QS7ku_eF"
      },
      "execution_count": null,
      "outputs": []
    },
    {
      "cell_type": "code",
      "source": [
        "img_size = 224\n",
        "base_model = VGG16(include_top = False,\n",
        "                   weights = 'imagenet',\n",
        "                   input_shape = (img_size,img_size,3))\n",
        "\n",
        "base_model.summary()"
      ],
      "metadata": {
        "colab": {
          "base_uri": "https://localhost:8080/"
        },
        "id": "LLgMi3fwSBBR",
        "outputId": "6391da01-d0ef-4d12-a5a9-1a39291b4c36"
      },
      "execution_count": null,
      "outputs": [
        {
          "output_type": "stream",
          "name": "stdout",
          "text": [
            "Model: \"vgg16\"\n",
            "_________________________________________________________________\n",
            " Layer (type)                Output Shape              Param #   \n",
            "=================================================================\n",
            " input_35 (InputLayer)       [(None, 224, 224, 3)]     0         \n",
            "                                                                 \n",
            " block1_conv1 (Conv2D)       (None, 224, 224, 64)      1792      \n",
            "                                                                 \n",
            " block1_conv2 (Conv2D)       (None, 224, 224, 64)      36928     \n",
            "                                                                 \n",
            " block1_pool (MaxPooling2D)  (None, 112, 112, 64)      0         \n",
            "                                                                 \n",
            " block2_conv1 (Conv2D)       (None, 112, 112, 128)     73856     \n",
            "                                                                 \n",
            " block2_conv2 (Conv2D)       (None, 112, 112, 128)     147584    \n",
            "                                                                 \n",
            " block2_pool (MaxPooling2D)  (None, 56, 56, 128)       0         \n",
            "                                                                 \n",
            " block3_conv1 (Conv2D)       (None, 56, 56, 256)       295168    \n",
            "                                                                 \n",
            " block3_conv2 (Conv2D)       (None, 56, 56, 256)       590080    \n",
            "                                                                 \n",
            " block3_conv3 (Conv2D)       (None, 56, 56, 256)       590080    \n",
            "                                                                 \n",
            " block3_pool (MaxPooling2D)  (None, 28, 28, 256)       0         \n",
            "                                                                 \n",
            " block4_conv1 (Conv2D)       (None, 28, 28, 512)       1180160   \n",
            "                                                                 \n",
            " block4_conv2 (Conv2D)       (None, 28, 28, 512)       2359808   \n",
            "                                                                 \n",
            " block4_conv3 (Conv2D)       (None, 28, 28, 512)       2359808   \n",
            "                                                                 \n",
            " block4_pool (MaxPooling2D)  (None, 14, 14, 512)       0         \n",
            "                                                                 \n",
            " block5_conv1 (Conv2D)       (None, 14, 14, 512)       2359808   \n",
            "                                                                 \n",
            " block5_conv2 (Conv2D)       (None, 14, 14, 512)       2359808   \n",
            "                                                                 \n",
            " block5_conv3 (Conv2D)       (None, 14, 14, 512)       2359808   \n",
            "                                                                 \n",
            " block5_pool (MaxPooling2D)  (None, 7, 7, 512)         0         \n",
            "                                                                 \n",
            "=================================================================\n",
            "Total params: 14,714,688\n",
            "Trainable params: 14,714,688\n",
            "Non-trainable params: 0\n",
            "_________________________________________________________________\n"
          ]
        }
      ]
    },
    {
      "cell_type": "code",
      "source": [
        "for layer in base_model.layers[:-16]:\n",
        "    layer.trainable = False \n",
        "\n",
        "last_layer = base_model.get_layer('block5_pool')\n",
        "last_output = base_model.output\n",
        "\n",
        "x = Flatten()(last_output)\n",
        "x = Dense(10, activation='softmax')(x)\n",
        "\n",
        "model = Model(inputs=base_model.input, outputs=x)"
      ],
      "metadata": {
        "id": "lFoU_piO72HM"
      },
      "execution_count": null,
      "outputs": []
    },
    {
      "cell_type": "code",
      "source": [
        "filepath= \"model_cnn_final.h5\"\n",
        "checkpoint = ModelCheckpoint(filepath, monitor='val_loss', verbose=1, save_best_only=True, mode='min', save_weights_only=False)\n",
        "early_stopping = EarlyStopping(monitor='val_loss',min_delta = 0, patience = 5, verbose = 1, restore_best_weights=True)\n",
        "callbacks_list = [\n",
        "        checkpoint,\n",
        "        early_stopping,\n",
        "    ]"
      ],
      "metadata": {
        "id": "UPkUQWdiSJ19"
      },
      "execution_count": null,
      "outputs": []
    },
    {
      "cell_type": "code",
      "source": [
        "model.compile(tf.keras.optimizers.Adam(learning_rate = 0.0003), loss = 'sparse_categorical_crossentropy', metrics=['accuracy'])"
      ],
      "metadata": {
        "id": "5JiTYiszSRZ5"
      },
      "execution_count": null,
      "outputs": []
    },
    {
      "cell_type": "code",
      "source": [
        "n_epochs = 15\n",
        "\n",
        "history = model.fit(train_set,\n",
        "    epochs=n_epochs,\n",
        "    validation_data = valid_set,\n",
        "    callbacks = callbacks_list\n",
        ")"
      ],
      "metadata": {
        "colab": {
          "base_uri": "https://localhost:8080/"
        },
        "id": "RXYNJ2ADSUCr",
        "outputId": "f4838355-5472-4c81-ad00-e30ab9f16185"
      },
      "execution_count": null,
      "outputs": [
        {
          "output_type": "stream",
          "name": "stdout",
          "text": [
            "Epoch 1/15\n",
            "625/625 [==============================] - ETA: 0s - loss: 1.2221 - accuracy: 0.5911\n",
            "Epoch 1: val_loss improved from inf to 0.99381, saving model to model_cnn_final.h5\n",
            "625/625 [==============================] - 127s 180ms/step - loss: 1.2221 - accuracy: 0.5911 - val_loss: 0.9938 - val_accuracy: 0.6658\n",
            "Epoch 2/15\n",
            "625/625 [==============================] - ETA: 0s - loss: 0.9049 - accuracy: 0.6990\n",
            "Epoch 2: val_loss improved from 0.99381 to 0.88801, saving model to model_cnn_final.h5\n",
            "625/625 [==============================] - 112s 179ms/step - loss: 0.9049 - accuracy: 0.6990 - val_loss: 0.8880 - val_accuracy: 0.6988\n",
            "Epoch 3/15\n",
            "625/625 [==============================] - ETA: 0s - loss: 0.8077 - accuracy: 0.7313\n",
            "Epoch 3: val_loss improved from 0.88801 to 0.82617, saving model to model_cnn_final.h5\n",
            "625/625 [==============================] - 112s 179ms/step - loss: 0.8077 - accuracy: 0.7313 - val_loss: 0.8262 - val_accuracy: 0.7225\n",
            "Epoch 4/15\n",
            "625/625 [==============================] - ETA: 0s - loss: 0.7431 - accuracy: 0.7543\n",
            "Epoch 4: val_loss improved from 0.82617 to 0.78649, saving model to model_cnn_final.h5\n",
            "625/625 [==============================] - 112s 179ms/step - loss: 0.7431 - accuracy: 0.7543 - val_loss: 0.7865 - val_accuracy: 0.7351\n",
            "Epoch 5/15\n",
            "625/625 [==============================] - ETA: 0s - loss: 0.6900 - accuracy: 0.7732\n",
            "Epoch 5: val_loss did not improve from 0.78649\n",
            "625/625 [==============================] - 112s 179ms/step - loss: 0.6900 - accuracy: 0.7732 - val_loss: 0.7895 - val_accuracy: 0.7333\n",
            "Epoch 6/15\n",
            "625/625 [==============================] - ETA: 0s - loss: 0.6479 - accuracy: 0.7879\n",
            "Epoch 6: val_loss improved from 0.78649 to 0.78254, saving model to model_cnn_final.h5\n",
            "625/625 [==============================] - 112s 179ms/step - loss: 0.6479 - accuracy: 0.7879 - val_loss: 0.7825 - val_accuracy: 0.7299\n",
            "Epoch 7/15\n",
            "625/625 [==============================] - ETA: 0s - loss: 0.6141 - accuracy: 0.7992\n",
            "Epoch 7: val_loss improved from 0.78254 to 0.76366, saving model to model_cnn_final.h5\n",
            "625/625 [==============================] - 112s 179ms/step - loss: 0.6141 - accuracy: 0.7992 - val_loss: 0.7637 - val_accuracy: 0.7384\n",
            "Epoch 8/15\n",
            "625/625 [==============================] - ETA: 0s - loss: 0.5846 - accuracy: 0.8097\n",
            "Epoch 8: val_loss did not improve from 0.76366\n",
            "625/625 [==============================] - 112s 179ms/step - loss: 0.5846 - accuracy: 0.8097 - val_loss: 0.7799 - val_accuracy: 0.7308\n",
            "Epoch 9/15\n",
            "625/625 [==============================] - ETA: 0s - loss: 0.5596 - accuracy: 0.8183\n",
            "Epoch 9: val_loss improved from 0.76366 to 0.73600, saving model to model_cnn_final.h5\n",
            "625/625 [==============================] - 131s 210ms/step - loss: 0.5596 - accuracy: 0.8183 - val_loss: 0.7360 - val_accuracy: 0.7475\n",
            "Epoch 10/15\n",
            "625/625 [==============================] - ETA: 0s - loss: 0.5385 - accuracy: 0.8258\n",
            "Epoch 10: val_loss improved from 0.73600 to 0.73214, saving model to model_cnn_final.h5\n",
            "625/625 [==============================] - 112s 179ms/step - loss: 0.5385 - accuracy: 0.8258 - val_loss: 0.7321 - val_accuracy: 0.7480\n",
            "Epoch 11/15\n",
            "625/625 [==============================] - ETA: 0s - loss: 0.5104 - accuracy: 0.8380\n",
            "Epoch 11: val_loss improved from 0.73214 to 0.72306, saving model to model_cnn_final.h5\n",
            "625/625 [==============================] - 112s 179ms/step - loss: 0.5104 - accuracy: 0.8380 - val_loss: 0.7231 - val_accuracy: 0.7530\n",
            "Epoch 12/15\n",
            "625/625 [==============================] - ETA: 0s - loss: 0.4922 - accuracy: 0.8452\n",
            "Epoch 12: val_loss improved from 0.72306 to 0.72175, saving model to model_cnn_final.h5\n",
            "625/625 [==============================] - 112s 179ms/step - loss: 0.4922 - accuracy: 0.8452 - val_loss: 0.7218 - val_accuracy: 0.7521\n",
            "Epoch 13/15\n",
            "625/625 [==============================] - ETA: 0s - loss: 0.4782 - accuracy: 0.8487\n",
            "Epoch 13: val_loss did not improve from 0.72175\n",
            "625/625 [==============================] - 112s 179ms/step - loss: 0.4782 - accuracy: 0.8487 - val_loss: 0.7315 - val_accuracy: 0.7507\n",
            "Epoch 14/15\n",
            "625/625 [==============================] - ETA: 0s - loss: 0.4573 - accuracy: 0.8579\n",
            "Epoch 14: val_loss did not improve from 0.72175\n",
            "625/625 [==============================] - 131s 210ms/step - loss: 0.4573 - accuracy: 0.8579 - val_loss: 0.7425 - val_accuracy: 0.7486\n",
            "Epoch 15/15\n",
            "625/625 [==============================] - ETA: 0s - loss: 0.4441 - accuracy: 0.8617\n",
            "Epoch 15: val_loss improved from 0.72175 to 0.72012, saving model to model_cnn_final.h5\n",
            "625/625 [==============================] - 112s 179ms/step - loss: 0.4441 - accuracy: 0.8617 - val_loss: 0.7201 - val_accuracy: 0.7517\n"
          ]
        }
      ]
    },
    {
      "cell_type": "code",
      "source": [
        "model.evaluate(test_set)"
      ],
      "metadata": {
        "colab": {
          "base_uri": "https://localhost:8080/"
        },
        "id": "ZD7gxzcFr-q9",
        "outputId": "08421c83-30e0-444b-b006-72c8b4d41e2d"
      },
      "execution_count": null,
      "outputs": [
        {
          "output_type": "stream",
          "name": "stdout",
          "text": [
            "6/6 [==============================] - 1s 173ms/step - loss: 0.1926 - accuracy: 0.9328\n"
          ]
        },
        {
          "output_type": "execute_result",
          "data": {
            "text/plain": [
              "[0.19258688390254974, 0.9327957034111023]"
            ]
          },
          "metadata": {},
          "execution_count": 262
        }
      ]
    },
    {
      "cell_type": "code",
      "source": [
        "y_truth = []\n",
        "for sample in test_set:\n",
        "  print(sample[1].numpy())\n",
        "  y_truth += sample[1].numpy().tolist()\n",
        "y_truth = np.array(y_truth)"
      ],
      "metadata": {
        "colab": {
          "base_uri": "https://localhost:8080/"
        },
        "id": "p9kNY1zrxJ8r",
        "outputId": "ed3996fd-7b0e-4c47-f1d8-182571521139"
      },
      "execution_count": null,
      "outputs": [
        {
          "output_type": "stream",
          "name": "stdout",
          "text": [
            "[2 1 2 0 0 0 1 1 2 1 2 2 0 0 0 2 2 2 0 1 1 0 1 1 2 2 0 0 2 0 2 0 1 2 0 0 1\n",
            " 0 2 2 2 1 2 1 1 2 2 1 0 2 0 2 0 1 2 1 1 2 2 1 1 2 0 2]\n",
            "[0 1 1 1 2 1 0 2 0 1 1 0 1 0 0 1 0 2 2 1 2 0 0 1 2 0 2 2 2 0 0 1 1 2 0 2 0\n",
            " 1 0 0 0 0 2 1 1 2 0 2 1 1 0 2 1 1 1 1 0 1 0 1 2 0 0 2]\n",
            "[1 0 1 1 0 1 2 1 1 2 2 0 1 0 0 2 0 0 0 0 1 1 1 0 2 1 1 2 0 1 2 1 1 0 0 2 2\n",
            " 2 0 1 2 2 0 2 2 0 0 0 2 0 2 1 2 1 0 1 2 2 2 0 1 1 2 2]\n",
            "[2 1 1 0 1 2 0 1 2 1 0 2 1 1 1 0 0 1 0 0 0 1 2 1 2 1 1 0 2 2 2 2 0 1 0 0 0\n",
            " 0 0 0 1 2 1 0 1 1 1 2 2 2 1 2 0 1 1 2 0 0 1 2 2 2 1 2]\n",
            "[1 0 1 2 0 0 2 2 0 2 1 1 1 0 1 0 0 2 0 2 0 0 2 1 0 1 2 1 0 1 2 1 2 0 2 1 0\n",
            " 0 1 1 0 1 0 1 0 1 1 2 0 0 0 2 1 0 1 2 1 0 2 2 2 0 0 1]\n",
            "[0 2 0 2 1 0 2 2 2 1 2 2 1 1 2 2 1 0 2 2 0 2 1 1 0 0 1 2 2 0 0 2 2 2 0 2 2\n",
            " 0 2 1 1 1 0 1 2 0 0 2 1 0 1 1]\n"
          ]
        }
      ]
    },
    {
      "cell_type": "code",
      "source": [
        "y_pred = model.predict(test_set)"
      ],
      "metadata": {
        "id": "a0Eqp5NvxJyG"
      },
      "execution_count": null,
      "outputs": []
    },
    {
      "cell_type": "code",
      "source": [
        "y_pred = np.argmax(y_pred,axis=1)"
      ],
      "metadata": {
        "id": "R3_aTlQax3xv"
      },
      "execution_count": null,
      "outputs": []
    },
    {
      "cell_type": "code",
      "source": [
        "from sklearn.metrics import classification_report, confusion_matrix"
      ],
      "metadata": {
        "id": "cT3hfqEex96I"
      },
      "execution_count": null,
      "outputs": []
    },
    {
      "cell_type": "code",
      "source": [
        "print(classification_report(y_truth,y_pred))"
      ],
      "metadata": {
        "colab": {
          "base_uri": "https://localhost:8080/"
        },
        "id": "Q_7RcVeYx9sA",
        "outputId": "91d3ff47-6610-40ef-9de9-063533096e97"
      },
      "execution_count": null,
      "outputs": [
        {
          "output_type": "stream",
          "name": "stdout",
          "text": [
            "              precision    recall  f1-score   support\n",
            "\n",
            "           0       0.92      1.00      0.96       124\n",
            "           1       1.00      0.89      0.94       124\n",
            "           2       0.89      0.91      0.90       124\n",
            "\n",
            "    accuracy                           0.93       372\n",
            "   macro avg       0.94      0.93      0.93       372\n",
            "weighted avg       0.94      0.93      0.93       372\n",
            "\n"
          ]
        }
      ]
    },
    {
      "cell_type": "code",
      "source": [
        "a"
      ],
      "metadata": {
        "id": "fvh8HXZ0x9an"
      },
      "execution_count": null,
      "outputs": []
    },
    {
      "cell_type": "code",
      "source": [
        "for images, labels in test_set.take(1):  # only take first element of dataset\n",
        "    numpy_images = images.numpy()\n",
        "    numpy_labels = labels.numpy()"
      ],
      "metadata": {
        "id": "9ZaBPnSur-i5"
      },
      "execution_count": null,
      "outputs": []
    },
    {
      "cell_type": "code",
      "source": [
        "plt.imshow(numpy_images[0])"
      ],
      "metadata": {
        "colab": {
          "base_uri": "https://localhost:8080/",
          "height": 287
        },
        "id": "z-wmrNIir-Y4",
        "outputId": "eead8e41-b72b-4625-b5e3-9f98f66c3164"
      },
      "execution_count": null,
      "outputs": [
        {
          "output_type": "execute_result",
          "data": {
            "text/plain": [
              "<matplotlib.image.AxesImage at 0x7f43ef0af350>"
            ]
          },
          "metadata": {},
          "execution_count": 225
        },
        {
          "output_type": "display_data",
          "data": {
            "text/plain": [
              "<Figure size 432x288 with 1 Axes>"
            ],
            "image/png": "[encoded data removed]"
          },
          "metadata": {
            "needs_background": "light"
          }
        }
      ]
    },
    {
      "cell_type": "code",
      "source": [
        "info"
      ],
      "metadata": {
        "colab": {
          "base_uri": "https://localhost:8080/"
        },
        "id": "5Xy8OL9f7Xr8",
        "outputId": "c8534132-8a18-41d4-be12-29343c0d5c3f"
      },
      "execution_count": null,
      "outputs": [
        {
          "output_type": "execute_result",
          "data": {
            "text/plain": [
              "tfds.core.DatasetInfo(\n",
              "    name='rock_paper_scissors',\n",
              "    version=3.0.0,\n",
              "    description='Images of hands playing rock, paper, scissor game.',\n",
              "    homepage='http://laurencemoroney.com/rock-paper-scissors-dataset',\n",
              "    features=FeaturesDict({\n",
              "        'image': Image(shape=(300, 300, 3), dtype=tf.uint8),\n",
              "        'label': ClassLabel(shape=(), dtype=tf.int64, num_classes=3),\n",
              "    }),\n",
              "    total_num_examples=2892,\n",
              "    splits={\n",
              "        'test': 372,\n",
              "        'train': 2520,\n",
              "    },\n",
              "    supervised_keys=('image', 'label'),\n",
              "    citation=\"\"\"@ONLINE {rps,\n",
              "    author = \"Laurence Moroney\",\n",
              "    title = \"Rock, Paper, Scissors Dataset\",\n",
              "    month = \"feb\",\n",
              "    year = \"2019\",\n",
              "    url = \"http://laurencemoroney.com/rock-paper-scissors-dataset\"\n",
              "    }\"\"\",\n",
              "    redistribution_info=,\n",
              ")"
            ]
          },
          "metadata": {},
          "execution_count": 205
        }
      ]
    },
    {
      "cell_type": "code",
      "source": [
        ""
      ],
      "metadata": {
        "id": "uuRk_Z_M7dIs"
      },
      "execution_count": null,
      "outputs": []
    }
  ]
}