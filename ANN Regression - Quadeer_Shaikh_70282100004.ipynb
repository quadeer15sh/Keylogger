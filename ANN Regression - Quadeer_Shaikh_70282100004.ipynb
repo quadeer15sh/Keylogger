{
 "cells": [
  {
   "cell_type": "markdown",
   "metadata": {},
   "source": [
    "# Quadeer Shaikh M.Tech AI Roll: 006"
   ]
  },
  {
   "cell_type": "code",
   "execution_count": 1,
   "metadata": {},
   "outputs": [],
   "source": [
    "import pandas as pd \n",
    "import numpy as np\n",
    "import matplotlib.pyplot as plt \n",
    "import seaborn as sns"
   ]
  },
  {
   "cell_type": "code",
   "execution_count": 2,
   "metadata": {},
   "outputs": [],
   "source": [
    "data = pd.read_csv(\"steel-industry-energy-consumption/Steel_industry_data.csv\")"
   ]
  },
  {
   "cell_type": "markdown",
   "metadata": {},
   "source": [
    "### Context\n",
    "- This company produces several types of coils, steel plates, and iron plates. The information on electricity consumption is held in a cloud-based system. The information on energy consumption of the industry is stored on the website of the Korea Electric Power Corporation (pccs.kepco.go.kr), and the perspectives on daily, monthly, and annual data are calculated and shown.\n",
    "\n",
    "**Data Source:** https://www.kaggle.com/csafrit2/steel-industry-energy-consumption / kaggle datasets download -d csafrit2/steel-industry-energy-consumption\n",
    "\n",
    "This notebook contains a very basic EDA and preprocessing and experiments various combination of layers for different neural network architectures"
   ]
  },
  {
   "cell_type": "code",
   "execution_count": 3,
   "metadata": {},
   "outputs": [
    {
     "data": {
      "text/html": [
       "<div>\n",
       "<style scoped>\n",
       "    .dataframe tbody tr th:only-of-type {\n",
       "        vertical-align: middle;\n",
       "    }\n",
       "\n",
       "    .dataframe tbody tr th {\n",
       "        vertical-align: top;\n",
       "    }\n",
       "\n",
       "    .dataframe thead th {\n",
       "        text-align: right;\n",
       "    }\n",
       "</style>\n",
       "<table border=\"1\" class=\"dataframe\">\n",
       "  <thead>\n",
       "    <tr style=\"text-align: right;\">\n",
       "      <th></th>\n",
       "      <th>date</th>\n",
       "      <th>Usage_kWh</th>\n",
       "      <th>Lagging_Current_Reactive.Power_kVarh</th>\n",
       "      <th>Leading_Current_Reactive_Power_kVarh</th>\n",
       "      <th>CO2(tCO2)</th>\n",
       "      <th>Lagging_Current_Power_Factor</th>\n",
       "      <th>Leading_Current_Power_Factor</th>\n",
       "      <th>NSM</th>\n",
       "      <th>WeekStatus</th>\n",
       "      <th>Day_of_week</th>\n",
       "      <th>Load_Type</th>\n",
       "    </tr>\n",
       "  </thead>\n",
       "  <tbody>\n",
       "    <tr>\n",
       "      <th>0</th>\n",
       "      <td>01/01/2018 00:15</td>\n",
       "      <td>3.17</td>\n",
       "      <td>2.95</td>\n",
       "      <td>0.0</td>\n",
       "      <td>0.0</td>\n",
       "      <td>73.21</td>\n",
       "      <td>100.0</td>\n",
       "      <td>900</td>\n",
       "      <td>Weekday</td>\n",
       "      <td>Monday</td>\n",
       "      <td>Light_Load</td>\n",
       "    </tr>\n",
       "    <tr>\n",
       "      <th>1</th>\n",
       "      <td>01/01/2018 00:30</td>\n",
       "      <td>4.00</td>\n",
       "      <td>4.46</td>\n",
       "      <td>0.0</td>\n",
       "      <td>0.0</td>\n",
       "      <td>66.77</td>\n",
       "      <td>100.0</td>\n",
       "      <td>1800</td>\n",
       "      <td>Weekday</td>\n",
       "      <td>Monday</td>\n",
       "      <td>Light_Load</td>\n",
       "    </tr>\n",
       "    <tr>\n",
       "      <th>2</th>\n",
       "      <td>01/01/2018 00:45</td>\n",
       "      <td>3.24</td>\n",
       "      <td>3.28</td>\n",
       "      <td>0.0</td>\n",
       "      <td>0.0</td>\n",
       "      <td>70.28</td>\n",
       "      <td>100.0</td>\n",
       "      <td>2700</td>\n",
       "      <td>Weekday</td>\n",
       "      <td>Monday</td>\n",
       "      <td>Light_Load</td>\n",
       "    </tr>\n",
       "    <tr>\n",
       "      <th>3</th>\n",
       "      <td>01/01/2018 01:00</td>\n",
       "      <td>3.31</td>\n",
       "      <td>3.56</td>\n",
       "      <td>0.0</td>\n",
       "      <td>0.0</td>\n",
       "      <td>68.09</td>\n",
       "      <td>100.0</td>\n",
       "      <td>3600</td>\n",
       "      <td>Weekday</td>\n",
       "      <td>Monday</td>\n",
       "      <td>Light_Load</td>\n",
       "    </tr>\n",
       "    <tr>\n",
       "      <th>4</th>\n",
       "      <td>01/01/2018 01:15</td>\n",
       "      <td>3.82</td>\n",
       "      <td>4.50</td>\n",
       "      <td>0.0</td>\n",
       "      <td>0.0</td>\n",
       "      <td>64.72</td>\n",
       "      <td>100.0</td>\n",
       "      <td>4500</td>\n",
       "      <td>Weekday</td>\n",
       "      <td>Monday</td>\n",
       "      <td>Light_Load</td>\n",
       "    </tr>\n",
       "  </tbody>\n",
       "</table>\n",
       "</div>"
      ],
      "text/plain": [
       "               date  Usage_kWh  Lagging_Current_Reactive.Power_kVarh  \\\n",
       "0  01/01/2018 00:15       3.17                                  2.95   \n",
       "1  01/01/2018 00:30       4.00                                  4.46   \n",
       "2  01/01/2018 00:45       3.24                                  3.28   \n",
       "3  01/01/2018 01:00       3.31                                  3.56   \n",
       "4  01/01/2018 01:15       3.82                                  4.50   \n",
       "\n",
       "   Leading_Current_Reactive_Power_kVarh  CO2(tCO2)  \\\n",
       "0                                   0.0        0.0   \n",
       "1                                   0.0        0.0   \n",
       "2                                   0.0        0.0   \n",
       "3                                   0.0        0.0   \n",
       "4                                   0.0        0.0   \n",
       "\n",
       "   Lagging_Current_Power_Factor  Leading_Current_Power_Factor   NSM  \\\n",
       "0                         73.21                         100.0   900   \n",
       "1                         66.77                         100.0  1800   \n",
       "2                         70.28                         100.0  2700   \n",
       "3                         68.09                         100.0  3600   \n",
       "4                         64.72                         100.0  4500   \n",
       "\n",
       "  WeekStatus Day_of_week   Load_Type  \n",
       "0    Weekday      Monday  Light_Load  \n",
       "1    Weekday      Monday  Light_Load  \n",
       "2    Weekday      Monday  Light_Load  \n",
       "3    Weekday      Monday  Light_Load  \n",
       "4    Weekday      Monday  Light_Load  "
      ]
     },
     "execution_count": 3,
     "metadata": {},
     "output_type": "execute_result"
    }
   ],
   "source": [
    "data.head()"
   ]
  },
  {
   "cell_type": "markdown",
   "metadata": {},
   "source": [
    "### Meta Data\n",
    "\n",
    "- **Date:** Continuous-time data taken on the first of the month\n",
    "- **Usage_kWh:** Industry Energy Consumption Continuous kWh\n",
    "- **Lagging Current:** reactive power Continuous kVarh\n",
    "- **Leading Current:** reactive power Continuous kVarh\n",
    "- **CO2:** Continuous ppm\n",
    "- **NSM:** Number of Seconds from midnight Continuous S\n",
    "- **Week status:** Categorical (Weekend (0) or a Weekday(1))\n",
    "- **Day of week:** Categorical Sunday, Monday : Saturday\n",
    "- **Load Type:** Categorical Light Load, Medium Load, Maximum Load"
   ]
  },
  {
   "cell_type": "markdown",
   "metadata": {},
   "source": [
    "### Data Info\n",
    "- Column names\n",
    "- Data Type\n",
    "- Null value counts"
   ]
  },
  {
   "cell_type": "code",
   "execution_count": 4,
   "metadata": {},
   "outputs": [
    {
     "name": "stdout",
     "output_type": "stream",
     "text": [
      "<class 'pandas.core.frame.DataFrame'>\n",
      "RangeIndex: 35040 entries, 0 to 35039\n",
      "Data columns (total 11 columns):\n",
      " #   Column                                Non-Null Count  Dtype  \n",
      "---  ------                                --------------  -----  \n",
      " 0   date                                  35040 non-null  object \n",
      " 1   Usage_kWh                             35040 non-null  float64\n",
      " 2   Lagging_Current_Reactive.Power_kVarh  35040 non-null  float64\n",
      " 3   Leading_Current_Reactive_Power_kVarh  35040 non-null  float64\n",
      " 4   CO2(tCO2)                             35040 non-null  float64\n",
      " 5   Lagging_Current_Power_Factor          35040 non-null  float64\n",
      " 6   Leading_Current_Power_Factor          35040 non-null  float64\n",
      " 7   NSM                                   35040 non-null  int64  \n",
      " 8   WeekStatus                            35040 non-null  object \n",
      " 9   Day_of_week                           35040 non-null  object \n",
      " 10  Load_Type                             35040 non-null  object \n",
      "dtypes: float64(6), int64(1), object(4)\n",
      "memory usage: 2.9+ MB\n"
     ]
    }
   ],
   "source": [
    "data.info()"
   ]
  },
  {
   "cell_type": "markdown",
   "metadata": {},
   "source": [
    "### Data Preprocessing "
   ]
  },
  {
   "cell_type": "markdown",
   "metadata": {},
   "source": [
    "#### Date Extraction"
   ]
  },
  {
   "cell_type": "code",
   "execution_count": 5,
   "metadata": {},
   "outputs": [],
   "source": [
    "data['date'] = pd.to_datetime(data['date'])"
   ]
  },
  {
   "cell_type": "code",
   "execution_count": 6,
   "metadata": {},
   "outputs": [
    {
     "data": {
      "text/plain": [
       "0       2018-01-01 00:15:00\n",
       "1       2018-01-01 00:30:00\n",
       "2       2018-01-01 00:45:00\n",
       "3       2018-01-01 01:00:00\n",
       "4       2018-01-01 01:15:00\n",
       "                ...        \n",
       "35035   2018-12-31 23:00:00\n",
       "35036   2018-12-31 23:15:00\n",
       "35037   2018-12-31 23:30:00\n",
       "35038   2018-12-31 23:45:00\n",
       "35039   2018-12-31 00:00:00\n",
       "Name: date, Length: 35040, dtype: datetime64[ns]"
      ]
     },
     "execution_count": 6,
     "metadata": {},
     "output_type": "execute_result"
    }
   ],
   "source": [
    "data['date']"
   ]
  },
  {
   "cell_type": "code",
   "execution_count": 7,
   "metadata": {},
   "outputs": [
    {
     "data": {
      "text/plain": [
       "0         1\n",
       "1         1\n",
       "2         1\n",
       "3         1\n",
       "4         1\n",
       "         ..\n",
       "35035    12\n",
       "35036    12\n",
       "35037    12\n",
       "35038    12\n",
       "35039    12\n",
       "Name: date, Length: 35040, dtype: int64"
      ]
     },
     "execution_count": 7,
     "metadata": {},
     "output_type": "execute_result"
    }
   ],
   "source": [
    "data['date'].dt.month"
   ]
  },
  {
   "cell_type": "code",
   "execution_count": 8,
   "metadata": {},
   "outputs": [
    {
     "data": {
      "text/plain": [
       "0         1\n",
       "1         1\n",
       "2         1\n",
       "3         1\n",
       "4         1\n",
       "         ..\n",
       "35035    31\n",
       "35036    31\n",
       "35037    31\n",
       "35038    31\n",
       "35039    31\n",
       "Name: date, Length: 35040, dtype: int64"
      ]
     },
     "execution_count": 8,
     "metadata": {},
     "output_type": "execute_result"
    }
   ],
   "source": [
    "data['date'].dt.day"
   ]
  },
  {
   "cell_type": "code",
   "execution_count": 9,
   "metadata": {},
   "outputs": [
    {
     "data": {
      "text/plain": [
       "0         0\n",
       "1         0\n",
       "2         0\n",
       "3         1\n",
       "4         1\n",
       "         ..\n",
       "35035    23\n",
       "35036    23\n",
       "35037    23\n",
       "35038    23\n",
       "35039     0\n",
       "Name: date, Length: 35040, dtype: int64"
      ]
     },
     "execution_count": 9,
     "metadata": {},
     "output_type": "execute_result"
    }
   ],
   "source": [
    "data['date'].dt.hour"
   ]
  },
  {
   "cell_type": "code",
   "execution_count": 10,
   "metadata": {},
   "outputs": [],
   "source": [
    "data['month'] = data['date'].dt.month\n",
    "data['day'] = data['date'].dt.day\n",
    "data['hour'] = data['date'].dt.hour"
   ]
  },
  {
   "cell_type": "code",
   "execution_count": 11,
   "metadata": {},
   "outputs": [],
   "source": [
    "data.drop(columns='date',inplace=True)"
   ]
  },
  {
   "cell_type": "code",
   "execution_count": 12,
   "metadata": {},
   "outputs": [
    {
     "data": {
      "text/html": [
       "<div>\n",
       "<style scoped>\n",
       "    .dataframe tbody tr th:only-of-type {\n",
       "        vertical-align: middle;\n",
       "    }\n",
       "\n",
       "    .dataframe tbody tr th {\n",
       "        vertical-align: top;\n",
       "    }\n",
       "\n",
       "    .dataframe thead th {\n",
       "        text-align: right;\n",
       "    }\n",
       "</style>\n",
       "<table border=\"1\" class=\"dataframe\">\n",
       "  <thead>\n",
       "    <tr style=\"text-align: right;\">\n",
       "      <th></th>\n",
       "      <th>Usage_kWh</th>\n",
       "      <th>Lagging_Current_Reactive.Power_kVarh</th>\n",
       "      <th>Leading_Current_Reactive_Power_kVarh</th>\n",
       "      <th>CO2(tCO2)</th>\n",
       "      <th>Lagging_Current_Power_Factor</th>\n",
       "      <th>Leading_Current_Power_Factor</th>\n",
       "      <th>NSM</th>\n",
       "      <th>month</th>\n",
       "      <th>day</th>\n",
       "      <th>hour</th>\n",
       "    </tr>\n",
       "  </thead>\n",
       "  <tbody>\n",
       "    <tr>\n",
       "      <th>count</th>\n",
       "      <td>35040.000000</td>\n",
       "      <td>35040.000000</td>\n",
       "      <td>35040.000000</td>\n",
       "      <td>35040.000000</td>\n",
       "      <td>35040.000000</td>\n",
       "      <td>35040.000000</td>\n",
       "      <td>35040.000000</td>\n",
       "      <td>35040.000000</td>\n",
       "      <td>35040.000000</td>\n",
       "      <td>35040.000000</td>\n",
       "    </tr>\n",
       "    <tr>\n",
       "      <th>mean</th>\n",
       "      <td>27.386892</td>\n",
       "      <td>13.035384</td>\n",
       "      <td>3.870949</td>\n",
       "      <td>0.011524</td>\n",
       "      <td>80.578056</td>\n",
       "      <td>84.367870</td>\n",
       "      <td>42750.000000</td>\n",
       "      <td>6.526027</td>\n",
       "      <td>15.720548</td>\n",
       "      <td>11.500000</td>\n",
       "    </tr>\n",
       "    <tr>\n",
       "      <th>std</th>\n",
       "      <td>33.444380</td>\n",
       "      <td>16.306000</td>\n",
       "      <td>7.424463</td>\n",
       "      <td>0.016151</td>\n",
       "      <td>18.921322</td>\n",
       "      <td>30.456535</td>\n",
       "      <td>24940.534317</td>\n",
       "      <td>3.447901</td>\n",
       "      <td>8.796373</td>\n",
       "      <td>6.922285</td>\n",
       "    </tr>\n",
       "    <tr>\n",
       "      <th>min</th>\n",
       "      <td>0.000000</td>\n",
       "      <td>0.000000</td>\n",
       "      <td>0.000000</td>\n",
       "      <td>0.000000</td>\n",
       "      <td>0.000000</td>\n",
       "      <td>0.000000</td>\n",
       "      <td>0.000000</td>\n",
       "      <td>1.000000</td>\n",
       "      <td>1.000000</td>\n",
       "      <td>0.000000</td>\n",
       "    </tr>\n",
       "    <tr>\n",
       "      <th>25%</th>\n",
       "      <td>3.200000</td>\n",
       "      <td>2.300000</td>\n",
       "      <td>0.000000</td>\n",
       "      <td>0.000000</td>\n",
       "      <td>63.320000</td>\n",
       "      <td>99.700000</td>\n",
       "      <td>21375.000000</td>\n",
       "      <td>4.000000</td>\n",
       "      <td>8.000000</td>\n",
       "      <td>5.750000</td>\n",
       "    </tr>\n",
       "    <tr>\n",
       "      <th>50%</th>\n",
       "      <td>4.570000</td>\n",
       "      <td>5.000000</td>\n",
       "      <td>0.000000</td>\n",
       "      <td>0.000000</td>\n",
       "      <td>87.960000</td>\n",
       "      <td>100.000000</td>\n",
       "      <td>42750.000000</td>\n",
       "      <td>7.000000</td>\n",
       "      <td>16.000000</td>\n",
       "      <td>11.500000</td>\n",
       "    </tr>\n",
       "    <tr>\n",
       "      <th>75%</th>\n",
       "      <td>51.237500</td>\n",
       "      <td>22.640000</td>\n",
       "      <td>2.090000</td>\n",
       "      <td>0.020000</td>\n",
       "      <td>99.022500</td>\n",
       "      <td>100.000000</td>\n",
       "      <td>64125.000000</td>\n",
       "      <td>10.000000</td>\n",
       "      <td>23.000000</td>\n",
       "      <td>17.250000</td>\n",
       "    </tr>\n",
       "    <tr>\n",
       "      <th>max</th>\n",
       "      <td>157.180000</td>\n",
       "      <td>96.910000</td>\n",
       "      <td>27.760000</td>\n",
       "      <td>0.070000</td>\n",
       "      <td>100.000000</td>\n",
       "      <td>100.000000</td>\n",
       "      <td>85500.000000</td>\n",
       "      <td>12.000000</td>\n",
       "      <td>31.000000</td>\n",
       "      <td>23.000000</td>\n",
       "    </tr>\n",
       "  </tbody>\n",
       "</table>\n",
       "</div>"
      ],
      "text/plain": [
       "          Usage_kWh  Lagging_Current_Reactive.Power_kVarh  \\\n",
       "count  35040.000000                          35040.000000   \n",
       "mean      27.386892                             13.035384   \n",
       "std       33.444380                             16.306000   \n",
       "min        0.000000                              0.000000   \n",
       "25%        3.200000                              2.300000   \n",
       "50%        4.570000                              5.000000   \n",
       "75%       51.237500                             22.640000   \n",
       "max      157.180000                             96.910000   \n",
       "\n",
       "       Leading_Current_Reactive_Power_kVarh     CO2(tCO2)  \\\n",
       "count                          35040.000000  35040.000000   \n",
       "mean                               3.870949      0.011524   \n",
       "std                                7.424463      0.016151   \n",
       "min                                0.000000      0.000000   \n",
       "25%                                0.000000      0.000000   \n",
       "50%                                0.000000      0.000000   \n",
       "75%                                2.090000      0.020000   \n",
       "max                               27.760000      0.070000   \n",
       "\n",
       "       Lagging_Current_Power_Factor  Leading_Current_Power_Factor  \\\n",
       "count                  35040.000000                  35040.000000   \n",
       "mean                      80.578056                     84.367870   \n",
       "std                       18.921322                     30.456535   \n",
       "min                        0.000000                      0.000000   \n",
       "25%                       63.320000                     99.700000   \n",
       "50%                       87.960000                    100.000000   \n",
       "75%                       99.022500                    100.000000   \n",
       "max                      100.000000                    100.000000   \n",
       "\n",
       "                NSM         month           day          hour  \n",
       "count  35040.000000  35040.000000  35040.000000  35040.000000  \n",
       "mean   42750.000000      6.526027     15.720548     11.500000  \n",
       "std    24940.534317      3.447901      8.796373      6.922285  \n",
       "min        0.000000      1.000000      1.000000      0.000000  \n",
       "25%    21375.000000      4.000000      8.000000      5.750000  \n",
       "50%    42750.000000      7.000000     16.000000     11.500000  \n",
       "75%    64125.000000     10.000000     23.000000     17.250000  \n",
       "max    85500.000000     12.000000     31.000000     23.000000  "
      ]
     },
     "execution_count": 12,
     "metadata": {},
     "output_type": "execute_result"
    }
   ],
   "source": [
    "data.describe()"
   ]
  },
  {
   "cell_type": "markdown",
   "metadata": {},
   "source": [
    "#### Categorical variable encoding "
   ]
  },
  {
   "cell_type": "code",
   "execution_count": 13,
   "metadata": {},
   "outputs": [
    {
     "name": "stdout",
     "output_type": "stream",
     "text": [
      "Weekday    25056\n",
      "Weekend     9984\n",
      "Name: WeekStatus, dtype: int64\n",
      "------------------------------------\n",
      "Monday       5088\n",
      "Tuesday      4992\n",
      "Wednesday    4992\n",
      "Thursday     4992\n",
      "Friday       4992\n",
      "Saturday     4992\n",
      "Sunday       4992\n",
      "Name: Day_of_week, dtype: int64\n",
      "------------------------------------\n",
      "Light_Load      18072\n",
      "Medium_Load      9696\n",
      "Maximum_Load     7272\n",
      "Name: Load_Type, dtype: int64\n",
      "------------------------------------\n"
     ]
    }
   ],
   "source": [
    "for col in data.select_dtypes(include=['object']).columns:\n",
    "    print(data[col].value_counts())\n",
    "    print('------------------------------------')"
   ]
  },
  {
   "cell_type": "code",
   "execution_count": 14,
   "metadata": {},
   "outputs": [],
   "source": [
    "data['Load_Type'].replace('Light_Load',0,inplace=True)\n",
    "data['Load_Type'].replace('Medium_Load',1,inplace=True)\n",
    "data['Load_Type'].replace('Maximum_Load',2,inplace=True)"
   ]
  },
  {
   "cell_type": "code",
   "execution_count": 15,
   "metadata": {},
   "outputs": [],
   "source": [
    "data['WeekStatus'].replace(\"Weekday\",0,inplace=True)\n",
    "data['WeekStatus'].replace(\"Weekend\",1,inplace=True)"
   ]
  },
  {
   "cell_type": "code",
   "execution_count": 16,
   "metadata": {},
   "outputs": [],
   "source": [
    "weekdays = pd.get_dummies(data['Day_of_week']).iloc[:,:-1]"
   ]
  },
  {
   "cell_type": "code",
   "execution_count": 17,
   "metadata": {},
   "outputs": [],
   "source": [
    "data.drop(columns='Day_of_week',inplace=True)"
   ]
  },
  {
   "cell_type": "code",
   "execution_count": 18,
   "metadata": {},
   "outputs": [],
   "source": [
    "data = data.join(weekdays)"
   ]
  },
  {
   "cell_type": "code",
   "execution_count": 19,
   "metadata": {},
   "outputs": [
    {
     "data": {
      "text/html": [
       "<div>\n",
       "<style scoped>\n",
       "    .dataframe tbody tr th:only-of-type {\n",
       "        vertical-align: middle;\n",
       "    }\n",
       "\n",
       "    .dataframe tbody tr th {\n",
       "        vertical-align: top;\n",
       "    }\n",
       "\n",
       "    .dataframe thead th {\n",
       "        text-align: right;\n",
       "    }\n",
       "</style>\n",
       "<table border=\"1\" class=\"dataframe\">\n",
       "  <thead>\n",
       "    <tr style=\"text-align: right;\">\n",
       "      <th></th>\n",
       "      <th>Usage_kWh</th>\n",
       "      <th>Lagging_Current_Reactive.Power_kVarh</th>\n",
       "      <th>Leading_Current_Reactive_Power_kVarh</th>\n",
       "      <th>CO2(tCO2)</th>\n",
       "      <th>Lagging_Current_Power_Factor</th>\n",
       "      <th>Leading_Current_Power_Factor</th>\n",
       "      <th>NSM</th>\n",
       "      <th>WeekStatus</th>\n",
       "      <th>Load_Type</th>\n",
       "      <th>month</th>\n",
       "      <th>day</th>\n",
       "      <th>hour</th>\n",
       "      <th>Friday</th>\n",
       "      <th>Monday</th>\n",
       "      <th>Saturday</th>\n",
       "      <th>Sunday</th>\n",
       "      <th>Thursday</th>\n",
       "      <th>Tuesday</th>\n",
       "    </tr>\n",
       "  </thead>\n",
       "  <tbody>\n",
       "    <tr>\n",
       "      <th>0</th>\n",
       "      <td>3.17</td>\n",
       "      <td>2.95</td>\n",
       "      <td>0.0</td>\n",
       "      <td>0.0</td>\n",
       "      <td>73.21</td>\n",
       "      <td>100.0</td>\n",
       "      <td>900</td>\n",
       "      <td>0</td>\n",
       "      <td>0</td>\n",
       "      <td>1</td>\n",
       "      <td>1</td>\n",
       "      <td>0</td>\n",
       "      <td>0</td>\n",
       "      <td>1</td>\n",
       "      <td>0</td>\n",
       "      <td>0</td>\n",
       "      <td>0</td>\n",
       "      <td>0</td>\n",
       "    </tr>\n",
       "    <tr>\n",
       "      <th>1</th>\n",
       "      <td>4.00</td>\n",
       "      <td>4.46</td>\n",
       "      <td>0.0</td>\n",
       "      <td>0.0</td>\n",
       "      <td>66.77</td>\n",
       "      <td>100.0</td>\n",
       "      <td>1800</td>\n",
       "      <td>0</td>\n",
       "      <td>0</td>\n",
       "      <td>1</td>\n",
       "      <td>1</td>\n",
       "      <td>0</td>\n",
       "      <td>0</td>\n",
       "      <td>1</td>\n",
       "      <td>0</td>\n",
       "      <td>0</td>\n",
       "      <td>0</td>\n",
       "      <td>0</td>\n",
       "    </tr>\n",
       "    <tr>\n",
       "      <th>2</th>\n",
       "      <td>3.24</td>\n",
       "      <td>3.28</td>\n",
       "      <td>0.0</td>\n",
       "      <td>0.0</td>\n",
       "      <td>70.28</td>\n",
       "      <td>100.0</td>\n",
       "      <td>2700</td>\n",
       "      <td>0</td>\n",
       "      <td>0</td>\n",
       "      <td>1</td>\n",
       "      <td>1</td>\n",
       "      <td>0</td>\n",
       "      <td>0</td>\n",
       "      <td>1</td>\n",
       "      <td>0</td>\n",
       "      <td>0</td>\n",
       "      <td>0</td>\n",
       "      <td>0</td>\n",
       "    </tr>\n",
       "    <tr>\n",
       "      <th>3</th>\n",
       "      <td>3.31</td>\n",
       "      <td>3.56</td>\n",
       "      <td>0.0</td>\n",
       "      <td>0.0</td>\n",
       "      <td>68.09</td>\n",
       "      <td>100.0</td>\n",
       "      <td>3600</td>\n",
       "      <td>0</td>\n",
       "      <td>0</td>\n",
       "      <td>1</td>\n",
       "      <td>1</td>\n",
       "      <td>1</td>\n",
       "      <td>0</td>\n",
       "      <td>1</td>\n",
       "      <td>0</td>\n",
       "      <td>0</td>\n",
       "      <td>0</td>\n",
       "      <td>0</td>\n",
       "    </tr>\n",
       "    <tr>\n",
       "      <th>4</th>\n",
       "      <td>3.82</td>\n",
       "      <td>4.50</td>\n",
       "      <td>0.0</td>\n",
       "      <td>0.0</td>\n",
       "      <td>64.72</td>\n",
       "      <td>100.0</td>\n",
       "      <td>4500</td>\n",
       "      <td>0</td>\n",
       "      <td>0</td>\n",
       "      <td>1</td>\n",
       "      <td>1</td>\n",
       "      <td>1</td>\n",
       "      <td>0</td>\n",
       "      <td>1</td>\n",
       "      <td>0</td>\n",
       "      <td>0</td>\n",
       "      <td>0</td>\n",
       "      <td>0</td>\n",
       "    </tr>\n",
       "  </tbody>\n",
       "</table>\n",
       "</div>"
      ],
      "text/plain": [
       "   Usage_kWh  Lagging_Current_Reactive.Power_kVarh  \\\n",
       "0       3.17                                  2.95   \n",
       "1       4.00                                  4.46   \n",
       "2       3.24                                  3.28   \n",
       "3       3.31                                  3.56   \n",
       "4       3.82                                  4.50   \n",
       "\n",
       "   Leading_Current_Reactive_Power_kVarh  CO2(tCO2)  \\\n",
       "0                                   0.0        0.0   \n",
       "1                                   0.0        0.0   \n",
       "2                                   0.0        0.0   \n",
       "3                                   0.0        0.0   \n",
       "4                                   0.0        0.0   \n",
       "\n",
       "   Lagging_Current_Power_Factor  Leading_Current_Power_Factor   NSM  \\\n",
       "0                         73.21                         100.0   900   \n",
       "1                         66.77                         100.0  1800   \n",
       "2                         70.28                         100.0  2700   \n",
       "3                         68.09                         100.0  3600   \n",
       "4                         64.72                         100.0  4500   \n",
       "\n",
       "   WeekStatus  Load_Type  month  day  hour  Friday  Monday  Saturday  Sunday  \\\n",
       "0           0          0      1    1     0       0       1         0       0   \n",
       "1           0          0      1    1     0       0       1         0       0   \n",
       "2           0          0      1    1     0       0       1         0       0   \n",
       "3           0          0      1    1     1       0       1         0       0   \n",
       "4           0          0      1    1     1       0       1         0       0   \n",
       "\n",
       "   Thursday  Tuesday  \n",
       "0         0        0  \n",
       "1         0        0  \n",
       "2         0        0  \n",
       "3         0        0  \n",
       "4         0        0  "
      ]
     },
     "execution_count": 19,
     "metadata": {},
     "output_type": "execute_result"
    }
   ],
   "source": [
    "data.head()"
   ]
  },
  {
   "cell_type": "markdown",
   "metadata": {},
   "source": [
    "### Correlation Analysis"
   ]
  },
  {
   "cell_type": "code",
   "execution_count": 229,
   "metadata": {},
   "outputs": [
    {
     "data": {
      "text/plain": [
       "<matplotlib.axes._subplots.AxesSubplot at 0x1ebb5e279e8>"
      ]
     },
     "execution_count": 229,
     "metadata": {},
     "output_type": "execute_result"
    },
    {
     "data": {
      "image/png": "[encoded data removed]",
      "text/plain": [
       "<Figure size 1440x576 with 2 Axes>"
      ]
     },
     "metadata": {
      "needs_background": "light"
     },
     "output_type": "display_data"
    }
   ],
   "source": [
    "plt.figure(figsize=(20,8))\n",
    "sns.heatmap(data.corr(),annot=True)"
   ]
  },
  {
   "cell_type": "code",
   "execution_count": 20,
   "metadata": {},
   "outputs": [],
   "source": [
    "X = data.iloc[:,1:].values\n",
    "y = data.iloc[:,0].values"
   ]
  },
  {
   "cell_type": "markdown",
   "metadata": {},
   "source": [
    "### Target Variable IQR Analysis\n",
    "- Too many outliers present in the output variable"
   ]
  },
  {
   "cell_type": "code",
   "execution_count": 147,
   "metadata": {},
   "outputs": [
    {
     "data": {
      "text/plain": [
       "<matplotlib.axes._subplots.AxesSubplot at 0x1ebce3ddf60>"
      ]
     },
     "execution_count": 147,
     "metadata": {},
     "output_type": "execute_result"
    },
    {
     "data": {
      "image/png": "[encoded data removed]",
      "text/plain": [
       "<Figure size 1440x360 with 1 Axes>"
      ]
     },
     "metadata": {
      "needs_background": "light"
     },
     "output_type": "display_data"
    }
   ],
   "source": [
    "plt.figure(figsize=(20,5))\n",
    "sns.boxplot(x='Usage_kWh',data=data)"
   ]
  },
  {
   "cell_type": "code",
   "execution_count": 21,
   "metadata": {},
   "outputs": [],
   "source": [
    "from sklearn.model_selection import train_test_split\n",
    "from sklearn.preprocessing import StandardScaler"
   ]
  },
  {
   "cell_type": "code",
   "execution_count": 22,
   "metadata": {},
   "outputs": [],
   "source": [
    "scaler = StandardScaler()\n",
    "\n",
    "X_train, X_test, y_train, y_test = train_test_split(X, y, test_size=0.2, random_state=42)\n",
    "\n",
    "X_train_sc = scaler.fit_transform(X_train)\n",
    "X_test_sc = scaler.transform(X_test)"
   ]
  },
  {
   "cell_type": "markdown",
   "metadata": {},
   "source": [
    "### Model"
   ]
  },
  {
   "cell_type": "code",
   "execution_count": 23,
   "metadata": {},
   "outputs": [],
   "source": [
    "import tensorflow as tf \n",
    "from tensorflow.keras.models import Sequential, Model\n",
    "from tensorflow.keras.layers import Dense\n",
    "from tensorflow.keras.optimizers import SGD, RMSprop, Adam\n",
    "from sklearn.metrics import mean_squared_error, mean_absolute_error, r2_score"
   ]
  },
  {
   "cell_type": "code",
   "execution_count": 157,
   "metadata": {},
   "outputs": [],
   "source": [
    "def build_model(layers,n,lr=0.001):\n",
    "    model = Sequential()\n",
    "    model.add(Dense(layers[0], activation='relu',input_shape=(n,)))\n",
    "    for nlayer in layers[1:]:\n",
    "        model.add(Dense(nlayer,activation='relu'))\n",
    "    model.add(Dense(1))\n",
    "              \n",
    "    model.compile(\n",
    "        optimizer=tf.keras.optimizers.RMSprop(lr),\n",
    "        loss=tf.keras.losses.mean_squared_error,\n",
    "        metrics=[tf.keras.metrics.mean_absolute_error]\n",
    "    )\n",
    "    return model"
   ]
  },
  {
   "cell_type": "markdown",
   "metadata": {},
   "source": [
    "### Initially Tested Model Architecture"
   ]
  },
  {
   "cell_type": "code",
   "execution_count": 207,
   "metadata": {},
   "outputs": [],
   "source": [
    "layers = [16,12]\n",
    "n = X_train.shape[1]\n",
    "model = build_model(layers,n)"
   ]
  },
  {
   "cell_type": "code",
   "execution_count": 208,
   "metadata": {},
   "outputs": [
    {
     "name": "stdout",
     "output_type": "stream",
     "text": [
      "Model: \"sequential_83\"\n",
      "_________________________________________________________________\n",
      "Layer (type)                 Output Shape              Param #   \n",
      "=================================================================\n",
      "dense_249 (Dense)            (None, 16)                288       \n",
      "_________________________________________________________________\n",
      "dense_250 (Dense)            (None, 12)                204       \n",
      "_________________________________________________________________\n",
      "dense_251 (Dense)            (None, 1)                 13        \n",
      "=================================================================\n",
      "Total params: 505\n",
      "Trainable params: 505\n",
      "Non-trainable params: 0\n",
      "_________________________________________________________________\n"
     ]
    }
   ],
   "source": [
    "model.summary()"
   ]
  },
  {
   "cell_type": "code",
   "execution_count": 209,
   "metadata": {},
   "outputs": [
    {
     "name": "stdout",
     "output_type": "stream",
     "text": [
      "Epoch 1/100\n",
      "876/876 - 1s - loss: 655.7120 - mean_absolute_error: 13.0000 - val_loss: 27.5585 - val_mean_absolute_error: 3.4759\n",
      "Epoch 2/100\n",
      "876/876 - 0s - loss: 17.6852 - mean_absolute_error: 2.6067 - val_loss: 13.2315 - val_mean_absolute_error: 2.4013\n",
      "Epoch 3/100\n",
      "876/876 - 0s - loss: 13.8014 - mean_absolute_error: 2.1660 - val_loss: 11.1286 - val_mean_absolute_error: 2.0948\n",
      "Epoch 4/100\n",
      "876/876 - 0s - loss: 12.7009 - mean_absolute_error: 2.0066 - val_loss: 10.5391 - val_mean_absolute_error: 1.9836\n",
      "Epoch 5/100\n",
      "876/876 - 0s - loss: 11.7547 - mean_absolute_error: 1.9157 - val_loss: 10.0328 - val_mean_absolute_error: 1.9365\n",
      "Epoch 6/100\n",
      "876/876 - 0s - loss: 10.9805 - mean_absolute_error: 1.8553 - val_loss: 9.9226 - val_mean_absolute_error: 1.9305\n",
      "Epoch 7/100\n",
      "876/876 - 0s - loss: 10.2961 - mean_absolute_error: 1.7974 - val_loss: 8.3453 - val_mean_absolute_error: 1.7557\n",
      "Epoch 8/100\n",
      "876/876 - 0s - loss: 9.5929 - mean_absolute_error: 1.7495 - val_loss: 8.9132 - val_mean_absolute_error: 1.8300\n",
      "Epoch 9/100\n",
      "876/876 - 0s - loss: 8.8598 - mean_absolute_error: 1.6945 - val_loss: 7.2012 - val_mean_absolute_error: 1.6447\n",
      "Epoch 10/100\n",
      "876/876 - 0s - loss: 8.0890 - mean_absolute_error: 1.6310 - val_loss: 7.7193 - val_mean_absolute_error: 1.7112\n",
      "Epoch 11/100\n",
      "876/876 - 0s - loss: 7.3832 - mean_absolute_error: 1.5712 - val_loss: 7.0538 - val_mean_absolute_error: 1.6381\n",
      "Epoch 12/100\n",
      "876/876 - 0s - loss: 6.6614 - mean_absolute_error: 1.5023 - val_loss: 5.6611 - val_mean_absolute_error: 1.4557\n",
      "Epoch 13/100\n",
      "876/876 - 0s - loss: 6.0066 - mean_absolute_error: 1.4307 - val_loss: 5.5702 - val_mean_absolute_error: 1.4555\n",
      "Epoch 14/100\n",
      "876/876 - 0s - loss: 5.4010 - mean_absolute_error: 1.3606 - val_loss: 5.6890 - val_mean_absolute_error: 1.4518\n",
      "Epoch 15/100\n",
      "876/876 - 0s - loss: 4.9189 - mean_absolute_error: 1.2931 - val_loss: 6.0000 - val_mean_absolute_error: 1.4890\n",
      "Epoch 16/100\n",
      "876/876 - 0s - loss: 4.4905 - mean_absolute_error: 1.2343 - val_loss: 4.1491 - val_mean_absolute_error: 1.2181\n",
      "Epoch 17/100\n",
      "876/876 - 0s - loss: 4.1151 - mean_absolute_error: 1.1772 - val_loss: 4.9080 - val_mean_absolute_error: 1.3270\n",
      "Epoch 18/100\n",
      "876/876 - 0s - loss: 3.8508 - mean_absolute_error: 1.1384 - val_loss: 3.7225 - val_mean_absolute_error: 1.1514\n",
      "Epoch 19/100\n",
      "876/876 - 0s - loss: 3.6140 - mean_absolute_error: 1.1027 - val_loss: 3.7284 - val_mean_absolute_error: 1.1374\n",
      "Epoch 20/100\n",
      "876/876 - 0s - loss: 3.4236 - mean_absolute_error: 1.0695 - val_loss: 3.3238 - val_mean_absolute_error: 1.0894\n",
      "Epoch 21/100\n",
      "876/876 - 0s - loss: 3.2626 - mean_absolute_error: 1.0397 - val_loss: 3.6062 - val_mean_absolute_error: 1.1034\n",
      "Epoch 22/100\n",
      "876/876 - 0s - loss: 3.1001 - mean_absolute_error: 1.0111 - val_loss: 3.0135 - val_mean_absolute_error: 1.0385\n",
      "Epoch 23/100\n",
      "876/876 - 0s - loss: 2.9573 - mean_absolute_error: 0.9864 - val_loss: 2.9556 - val_mean_absolute_error: 1.0050\n",
      "Epoch 24/100\n",
      "876/876 - 0s - loss: 2.8534 - mean_absolute_error: 0.9646 - val_loss: 3.0896 - val_mean_absolute_error: 1.0562\n",
      "Epoch 25/100\n",
      "876/876 - 0s - loss: 2.7309 - mean_absolute_error: 0.9495 - val_loss: 2.7708 - val_mean_absolute_error: 0.9698\n",
      "Epoch 26/100\n",
      "876/876 - 0s - loss: 2.6501 - mean_absolute_error: 0.9313 - val_loss: 2.6226 - val_mean_absolute_error: 0.9569\n",
      "Epoch 27/100\n",
      "876/876 - 0s - loss: 2.5606 - mean_absolute_error: 0.9117 - val_loss: 2.5751 - val_mean_absolute_error: 0.9411\n",
      "Epoch 28/100\n",
      "876/876 - 0s - loss: 2.4804 - mean_absolute_error: 0.9001 - val_loss: 2.5364 - val_mean_absolute_error: 0.9813\n",
      "Epoch 29/100\n",
      "876/876 - 0s - loss: 2.4303 - mean_absolute_error: 0.8882 - val_loss: 2.3761 - val_mean_absolute_error: 0.9220\n",
      "Epoch 30/100\n",
      "876/876 - 0s - loss: 2.3877 - mean_absolute_error: 0.8752 - val_loss: 2.5110 - val_mean_absolute_error: 0.9220\n",
      "Epoch 31/100\n",
      "876/876 - 0s - loss: 2.3304 - mean_absolute_error: 0.8659 - val_loss: 2.3105 - val_mean_absolute_error: 0.8931\n",
      "Epoch 32/100\n",
      "876/876 - 0s - loss: 2.2697 - mean_absolute_error: 0.8566 - val_loss: 2.2990 - val_mean_absolute_error: 0.9055\n",
      "Epoch 33/100\n",
      "876/876 - 0s - loss: 2.2359 - mean_absolute_error: 0.8423 - val_loss: 2.2415 - val_mean_absolute_error: 0.9005\n",
      "Epoch 34/100\n",
      "876/876 - 0s - loss: 2.1837 - mean_absolute_error: 0.8391 - val_loss: 2.1384 - val_mean_absolute_error: 0.8525\n",
      "Epoch 35/100\n",
      "876/876 - 0s - loss: 2.1631 - mean_absolute_error: 0.8321 - val_loss: 2.2194 - val_mean_absolute_error: 0.8732\n",
      "Epoch 36/100\n",
      "876/876 - 0s - loss: 2.1426 - mean_absolute_error: 0.8260 - val_loss: 2.1599 - val_mean_absolute_error: 0.8885\n",
      "Epoch 37/100\n",
      "876/876 - 0s - loss: 2.0914 - mean_absolute_error: 0.8167 - val_loss: 2.3902 - val_mean_absolute_error: 0.9588\n",
      "Epoch 38/100\n",
      "876/876 - 0s - loss: 2.0766 - mean_absolute_error: 0.8157 - val_loss: 2.1632 - val_mean_absolute_error: 0.8729\n",
      "Epoch 39/100\n",
      "876/876 - 0s - loss: 2.0390 - mean_absolute_error: 0.8084 - val_loss: 1.9594 - val_mean_absolute_error: 0.8106\n",
      "Epoch 40/100\n",
      "876/876 - 0s - loss: 2.0005 - mean_absolute_error: 0.8034 - val_loss: 1.9718 - val_mean_absolute_error: 0.8163\n",
      "Epoch 41/100\n",
      "876/876 - 1s - loss: 1.9707 - mean_absolute_error: 0.7922 - val_loss: 1.9862 - val_mean_absolute_error: 0.8301\n",
      "Epoch 42/100\n",
      "876/876 - 0s - loss: 1.9304 - mean_absolute_error: 0.7856 - val_loss: 2.0242 - val_mean_absolute_error: 0.8534\n",
      "Epoch 43/100\n",
      "876/876 - 0s - loss: 1.9021 - mean_absolute_error: 0.7839 - val_loss: 2.0487 - val_mean_absolute_error: 0.8310\n",
      "Epoch 44/100\n",
      "876/876 - 0s - loss: 1.8700 - mean_absolute_error: 0.7751 - val_loss: 1.8624 - val_mean_absolute_error: 0.7933\n",
      "Epoch 45/100\n",
      "876/876 - 0s - loss: 1.8624 - mean_absolute_error: 0.7735 - val_loss: 1.8664 - val_mean_absolute_error: 0.8177\n",
      "Epoch 46/100\n",
      "876/876 - 0s - loss: 1.8294 - mean_absolute_error: 0.7698 - val_loss: 1.8179 - val_mean_absolute_error: 0.7869\n",
      "Epoch 47/100\n",
      "876/876 - 0s - loss: 1.8137 - mean_absolute_error: 0.7644 - val_loss: 1.8984 - val_mean_absolute_error: 0.8100\n",
      "Epoch 48/100\n",
      "876/876 - 0s - loss: 1.7675 - mean_absolute_error: 0.7563 - val_loss: 1.8018 - val_mean_absolute_error: 0.7927\n",
      "Epoch 49/100\n",
      "876/876 - 0s - loss: 1.7649 - mean_absolute_error: 0.7555 - val_loss: 1.6710 - val_mean_absolute_error: 0.7542\n",
      "Epoch 50/100\n",
      "876/876 - 0s - loss: 1.7255 - mean_absolute_error: 0.7439 - val_loss: 1.9110 - val_mean_absolute_error: 0.8394\n",
      "Epoch 51/100\n",
      "876/876 - 0s - loss: 1.6988 - mean_absolute_error: 0.7376 - val_loss: 1.7859 - val_mean_absolute_error: 0.7786\n",
      "Epoch 52/100\n",
      "876/876 - 0s - loss: 1.6946 - mean_absolute_error: 0.7349 - val_loss: 1.6530 - val_mean_absolute_error: 0.7518\n",
      "Epoch 53/100\n",
      "876/876 - 0s - loss: 1.6644 - mean_absolute_error: 0.7277 - val_loss: 1.9211 - val_mean_absolute_error: 0.8217\n",
      "Epoch 54/100\n",
      "876/876 - 0s - loss: 1.6484 - mean_absolute_error: 0.7230 - val_loss: 1.9017 - val_mean_absolute_error: 0.8116\n",
      "Epoch 55/100\n",
      "876/876 - 0s - loss: 1.6221 - mean_absolute_error: 0.7162 - val_loss: 1.6536 - val_mean_absolute_error: 0.7355\n",
      "Epoch 56/100\n",
      "876/876 - 0s - loss: 1.6169 - mean_absolute_error: 0.7112 - val_loss: 1.7370 - val_mean_absolute_error: 0.7636\n",
      "Epoch 57/100\n",
      "876/876 - 0s - loss: 1.5838 - mean_absolute_error: 0.7078 - val_loss: 1.7432 - val_mean_absolute_error: 0.7493\n",
      "Epoch 58/100\n",
      "876/876 - 0s - loss: 1.5675 - mean_absolute_error: 0.7032 - val_loss: 1.6734 - val_mean_absolute_error: 0.7318\n",
      "Epoch 59/100\n",
      "876/876 - 0s - loss: 1.5501 - mean_absolute_error: 0.6979 - val_loss: 1.6917 - val_mean_absolute_error: 0.7774\n",
      "Epoch 60/100\n",
      "876/876 - 0s - loss: 1.5431 - mean_absolute_error: 0.6960 - val_loss: 1.7469 - val_mean_absolute_error: 0.7510\n",
      "Epoch 61/100\n",
      "876/876 - 1s - loss: 1.5365 - mean_absolute_error: 0.6896 - val_loss: 2.0482 - val_mean_absolute_error: 0.8481\n",
      "Epoch 62/100\n",
      "876/876 - 0s - loss: 1.5307 - mean_absolute_error: 0.6925 - val_loss: 1.5412 - val_mean_absolute_error: 0.7091\n",
      "Epoch 63/100\n",
      "876/876 - 0s - loss: 1.5054 - mean_absolute_error: 0.6838 - val_loss: 1.5457 - val_mean_absolute_error: 0.6966\n",
      "Epoch 64/100\n",
      "876/876 - 0s - loss: 1.4892 - mean_absolute_error: 0.6792 - val_loss: 1.5220 - val_mean_absolute_error: 0.7040\n",
      "Epoch 65/100\n",
      "876/876 - 0s - loss: 1.4676 - mean_absolute_error: 0.6733 - val_loss: 2.2576 - val_mean_absolute_error: 0.9114\n",
      "Epoch 66/100\n",
      "876/876 - 0s - loss: 1.4676 - mean_absolute_error: 0.6729 - val_loss: 1.7843 - val_mean_absolute_error: 0.7716\n",
      "Epoch 67/100\n"
     ]
    },
    {
     "name": "stdout",
     "output_type": "stream",
     "text": [
      "876/876 - 0s - loss: 1.4497 - mean_absolute_error: 0.6653 - val_loss: 1.6753 - val_mean_absolute_error: 0.7431\n",
      "Epoch 68/100\n",
      "876/876 - 0s - loss: 1.4280 - mean_absolute_error: 0.6616 - val_loss: 1.6440 - val_mean_absolute_error: 0.7486\n",
      "Epoch 69/100\n",
      "876/876 - 0s - loss: 1.4176 - mean_absolute_error: 0.6575 - val_loss: 1.4210 - val_mean_absolute_error: 0.6670\n",
      "Epoch 70/100\n",
      "876/876 - 0s - loss: 1.4046 - mean_absolute_error: 0.6563 - val_loss: 1.4890 - val_mean_absolute_error: 0.6808\n",
      "Epoch 71/100\n",
      "876/876 - 0s - loss: 1.4190 - mean_absolute_error: 0.6565 - val_loss: 1.5213 - val_mean_absolute_error: 0.6978\n",
      "Epoch 72/100\n",
      "876/876 - 0s - loss: 1.3900 - mean_absolute_error: 0.6479 - val_loss: 1.5581 - val_mean_absolute_error: 0.7075\n",
      "Epoch 73/100\n",
      "876/876 - 0s - loss: 1.3756 - mean_absolute_error: 0.6476 - val_loss: 1.5477 - val_mean_absolute_error: 0.7167\n",
      "Epoch 74/100\n",
      "876/876 - 0s - loss: 1.3469 - mean_absolute_error: 0.6403 - val_loss: 1.4352 - val_mean_absolute_error: 0.6683\n",
      "Epoch 75/100\n",
      "876/876 - 0s - loss: 1.3251 - mean_absolute_error: 0.6376 - val_loss: 1.3501 - val_mean_absolute_error: 0.6441\n",
      "Epoch 76/100\n",
      "876/876 - 0s - loss: 1.3374 - mean_absolute_error: 0.6377 - val_loss: 1.6146 - val_mean_absolute_error: 0.7341\n",
      "Epoch 77/100\n",
      "876/876 - 0s - loss: 1.3208 - mean_absolute_error: 0.6303 - val_loss: 1.6008 - val_mean_absolute_error: 0.7350\n",
      "Epoch 78/100\n",
      "876/876 - 0s - loss: 1.3108 - mean_absolute_error: 0.6308 - val_loss: 1.4321 - val_mean_absolute_error: 0.6791\n",
      "Epoch 79/100\n",
      "876/876 - 1s - loss: 1.3167 - mean_absolute_error: 0.6307 - val_loss: 1.5612 - val_mean_absolute_error: 0.7084\n",
      "Epoch 80/100\n",
      "876/876 - 0s - loss: 1.2960 - mean_absolute_error: 0.6251 - val_loss: 1.3214 - val_mean_absolute_error: 0.6396\n",
      "Epoch 81/100\n",
      "876/876 - 0s - loss: 1.2760 - mean_absolute_error: 0.6231 - val_loss: 1.4186 - val_mean_absolute_error: 0.6474\n",
      "Epoch 82/100\n",
      "876/876 - 0s - loss: 1.2701 - mean_absolute_error: 0.6209 - val_loss: 1.7548 - val_mean_absolute_error: 0.7451\n",
      "Epoch 83/100\n",
      "876/876 - 0s - loss: 1.2697 - mean_absolute_error: 0.6223 - val_loss: 1.3534 - val_mean_absolute_error: 0.6450\n",
      "Epoch 84/100\n",
      "876/876 - 0s - loss: 1.2777 - mean_absolute_error: 0.6182 - val_loss: 1.7059 - val_mean_absolute_error: 0.7749\n",
      "Epoch 85/100\n",
      "876/876 - 0s - loss: 1.2414 - mean_absolute_error: 0.6143 - val_loss: 1.3871 - val_mean_absolute_error: 0.6543\n",
      "Epoch 86/100\n",
      "876/876 - 0s - loss: 1.2319 - mean_absolute_error: 0.6129 - val_loss: 1.2836 - val_mean_absolute_error: 0.6241\n",
      "Epoch 87/100\n",
      "876/876 - 0s - loss: 1.2411 - mean_absolute_error: 0.6134 - val_loss: 1.4470 - val_mean_absolute_error: 0.6588\n",
      "Epoch 88/100\n",
      "876/876 - 0s - loss: 1.2381 - mean_absolute_error: 0.6106 - val_loss: 1.4367 - val_mean_absolute_error: 0.6632\n",
      "Epoch 89/100\n",
      "876/876 - 0s - loss: 1.2463 - mean_absolute_error: 0.6097 - val_loss: 1.2799 - val_mean_absolute_error: 0.6266\n",
      "Epoch 90/100\n",
      "876/876 - 0s - loss: 1.2269 - mean_absolute_error: 0.6090 - val_loss: 1.4983 - val_mean_absolute_error: 0.7045\n",
      "Epoch 91/100\n",
      "876/876 - 0s - loss: 1.2080 - mean_absolute_error: 0.6076 - val_loss: 1.5863 - val_mean_absolute_error: 0.7072\n",
      "Epoch 92/100\n",
      "876/876 - 1s - loss: 1.2053 - mean_absolute_error: 0.6061 - val_loss: 1.3951 - val_mean_absolute_error: 0.6661\n",
      "Epoch 93/100\n",
      "876/876 - 1s - loss: 1.2073 - mean_absolute_error: 0.6067 - val_loss: 1.3743 - val_mean_absolute_error: 0.6361\n",
      "Epoch 94/100\n",
      "876/876 - 0s - loss: 1.1885 - mean_absolute_error: 0.6027 - val_loss: 1.2705 - val_mean_absolute_error: 0.6395\n",
      "Epoch 95/100\n",
      "876/876 - 0s - loss: 1.2053 - mean_absolute_error: 0.6022 - val_loss: 1.2476 - val_mean_absolute_error: 0.6176\n",
      "Epoch 96/100\n",
      "876/876 - 1s - loss: 1.1922 - mean_absolute_error: 0.6006 - val_loss: 1.2123 - val_mean_absolute_error: 0.6085\n",
      "Epoch 97/100\n",
      "876/876 - 0s - loss: 1.1726 - mean_absolute_error: 0.5988 - val_loss: 1.3372 - val_mean_absolute_error: 0.6325\n",
      "Epoch 98/100\n",
      "876/876 - 0s - loss: 1.1861 - mean_absolute_error: 0.5969 - val_loss: 1.1600 - val_mean_absolute_error: 0.5965\n",
      "Epoch 99/100\n",
      "876/876 - 0s - loss: 1.1931 - mean_absolute_error: 0.5993 - val_loss: 1.3870 - val_mean_absolute_error: 0.6581\n",
      "Epoch 100/100\n",
      "876/876 - 0s - loss: 1.1640 - mean_absolute_error: 0.5981 - val_loss: 1.4703 - val_mean_absolute_error: 0.6669\n"
     ]
    }
   ],
   "source": [
    "batch_size = 32\n",
    "\n",
    "history = model.fit(\n",
    "                X_train_sc,\n",
    "                y_train,\n",
    "                batch_size = batch_size,\n",
    "                epochs=100,\n",
    "                steps_per_epoch=X_train.shape[0]//batch_size,\n",
    "                validation_batch_size=batch_size,\n",
    "                validation_data=(X_test_sc,y_test),\n",
    "                validation_steps = X_test.shape[0]//batch_size,\n",
    "                verbose=2\n",
    "            )"
   ]
  },
  {
   "cell_type": "code",
   "execution_count": 210,
   "metadata": {},
   "outputs": [
    {
     "data": {
      "image/png": "[encoded data removed]",
      "text/plain": [
       "<Figure size 1080x432 with 1 Axes>"
      ]
     },
     "metadata": {
      "needs_background": "light"
     },
     "output_type": "display_data"
    }
   ],
   "source": [
    "plt.figure(figsize=(15,6))\n",
    "plt.plot(history.history['loss'])\n",
    "plt.plot(history.history['val_loss'])\n",
    "plt.title('model loss')\n",
    "plt.ylabel('loss')\n",
    "plt.xlabel('epoch')\n",
    "plt.ylim([0,15])\n",
    "plt.legend(['train', 'test'], loc='upper left')\n",
    "plt.show()"
   ]
  },
  {
   "cell_type": "code",
   "execution_count": 211,
   "metadata": {},
   "outputs": [
    {
     "name": "stdout",
     "output_type": "stream",
     "text": [
      "RMSE:  1.2125675032604042\n",
      "MSE:  1.4703199499631705\n",
      "MAE:  0.666888343835394\n",
      "R Squared:  0.9987065267382647\n"
     ]
    }
   ],
   "source": [
    "y_pred = model.predict(X_test_sc)\n",
    "y_pred = y_pred.reshape(-1,)\n",
    "print(\"RMSE: \",mean_squared_error(y_test,y_pred,squared=False))\n",
    "print(\"MSE: \",mean_squared_error(y_test,y_pred))\n",
    "print(\"MAE: \",mean_absolute_error(y_test,y_pred))\n",
    "print(\"R Squared: \",r2_score(y_test,y_pred))"
   ]
  },
  {
   "cell_type": "markdown",
   "metadata": {},
   "source": [
    "**Conclusion:** Model RMSE is 1.21, Usage kWh should be further reduced to less than 1 atleast. "
   ]
  },
  {
   "cell_type": "markdown",
   "metadata": {},
   "source": [
    "### Final Model Architecture (after various experiments)"
   ]
  },
  {
   "cell_type": "code",
   "execution_count": 212,
   "metadata": {},
   "outputs": [],
   "source": [
    "layers = [32,24]\n",
    "n = X_train.shape[1]\n",
    "model = build_model(layers,n,0.001)"
   ]
  },
  {
   "cell_type": "code",
   "execution_count": 213,
   "metadata": {},
   "outputs": [
    {
     "name": "stdout",
     "output_type": "stream",
     "text": [
      "Model: \"sequential_84\"\n",
      "_________________________________________________________________\n",
      "Layer (type)                 Output Shape              Param #   \n",
      "=================================================================\n",
      "dense_252 (Dense)            (None, 32)                576       \n",
      "_________________________________________________________________\n",
      "dense_253 (Dense)            (None, 24)                792       \n",
      "_________________________________________________________________\n",
      "dense_254 (Dense)            (None, 1)                 25        \n",
      "=================================================================\n",
      "Total params: 1,393\n",
      "Trainable params: 1,393\n",
      "Non-trainable params: 0\n",
      "_________________________________________________________________\n"
     ]
    }
   ],
   "source": [
    "model.summary()"
   ]
  },
  {
   "cell_type": "code",
   "execution_count": 214,
   "metadata": {},
   "outputs": [
    {
     "name": "stdout",
     "output_type": "stream",
     "text": [
      "Epoch 1/100\n",
      "876/876 - 1s - loss: 369.9291 - mean_absolute_error: 8.6182 - val_loss: 14.1335 - val_mean_absolute_error: 2.5785\n",
      "Epoch 2/100\n",
      "876/876 - 0s - loss: 13.9270 - mean_absolute_error: 2.1965 - val_loss: 16.4502 - val_mean_absolute_error: 2.5471\n",
      "Epoch 3/100\n",
      "876/876 - 0s - loss: 12.1960 - mean_absolute_error: 1.9943 - val_loss: 10.5336 - val_mean_absolute_error: 2.0484\n",
      "Epoch 4/100\n",
      "876/876 - 0s - loss: 10.8784 - mean_absolute_error: 1.8944 - val_loss: 10.3262 - val_mean_absolute_error: 2.0241\n",
      "Epoch 5/100\n",
      "876/876 - 0s - loss: 9.6209 - mean_absolute_error: 1.7914 - val_loss: 8.0248 - val_mean_absolute_error: 1.7824\n",
      "Epoch 6/100\n",
      "876/876 - 0s - loss: 8.5395 - mean_absolute_error: 1.7011 - val_loss: 6.9132 - val_mean_absolute_error: 1.6442\n",
      "Epoch 7/100\n",
      "876/876 - 0s - loss: 7.4427 - mean_absolute_error: 1.5992 - val_loss: 6.5404 - val_mean_absolute_error: 1.6080\n",
      "Epoch 8/100\n",
      "876/876 - 1s - loss: 6.5396 - mean_absolute_error: 1.5069 - val_loss: 5.6114 - val_mean_absolute_error: 1.4833\n",
      "Epoch 9/100\n",
      "876/876 - 0s - loss: 5.7007 - mean_absolute_error: 1.4141 - val_loss: 6.1200 - val_mean_absolute_error: 1.5560\n",
      "Epoch 10/100\n",
      "876/876 - 0s - loss: 5.0216 - mean_absolute_error: 1.3302 - val_loss: 4.9440 - val_mean_absolute_error: 1.3735\n",
      "Epoch 11/100\n",
      "876/876 - 0s - loss: 4.4924 - mean_absolute_error: 1.2547 - val_loss: 4.0778 - val_mean_absolute_error: 1.2532\n",
      "Epoch 12/100\n",
      "876/876 - 0s - loss: 4.0328 - mean_absolute_error: 1.1921 - val_loss: 3.9663 - val_mean_absolute_error: 1.2167\n",
      "Epoch 13/100\n",
      "876/876 - 0s - loss: 3.7095 - mean_absolute_error: 1.1408 - val_loss: 5.6382 - val_mean_absolute_error: 1.4912\n",
      "Epoch 14/100\n",
      "876/876 - 0s - loss: 3.4190 - mean_absolute_error: 1.0912 - val_loss: 4.0570 - val_mean_absolute_error: 1.2071\n",
      "Epoch 15/100\n",
      "876/876 - 0s - loss: 3.1894 - mean_absolute_error: 1.0441 - val_loss: 3.1830 - val_mean_absolute_error: 1.0878\n",
      "Epoch 16/100\n",
      "876/876 - 0s - loss: 3.0086 - mean_absolute_error: 1.0022 - val_loss: 2.7730 - val_mean_absolute_error: 0.9837\n",
      "Epoch 17/100\n",
      "876/876 - 0s - loss: 2.8212 - mean_absolute_error: 0.9673 - val_loss: 2.6346 - val_mean_absolute_error: 0.9587\n",
      "Epoch 18/100\n",
      "876/876 - 0s - loss: 2.6421 - mean_absolute_error: 0.9281 - val_loss: 2.5677 - val_mean_absolute_error: 0.9387\n",
      "Epoch 19/100\n",
      "876/876 - 0s - loss: 2.5226 - mean_absolute_error: 0.9056 - val_loss: 3.2351 - val_mean_absolute_error: 1.0857\n",
      "Epoch 20/100\n",
      "876/876 - 0s - loss: 2.4414 - mean_absolute_error: 0.8850 - val_loss: 2.2240 - val_mean_absolute_error: 0.8670\n",
      "Epoch 21/100\n",
      "876/876 - 0s - loss: 2.3098 - mean_absolute_error: 0.8576 - val_loss: 2.2345 - val_mean_absolute_error: 0.8548\n",
      "Epoch 22/100\n",
      "876/876 - 2s - loss: 2.2396 - mean_absolute_error: 0.8360 - val_loss: 1.9719 - val_mean_absolute_error: 0.7892\n",
      "Epoch 23/100\n",
      "876/876 - 1s - loss: 2.1340 - mean_absolute_error: 0.8213 - val_loss: 2.2131 - val_mean_absolute_error: 0.8421\n",
      "Epoch 24/100\n",
      "876/876 - 0s - loss: 2.0289 - mean_absolute_error: 0.7964 - val_loss: 1.8864 - val_mean_absolute_error: 0.7649\n",
      "Epoch 25/100\n",
      "876/876 - 0s - loss: 1.9925 - mean_absolute_error: 0.7843 - val_loss: 2.0755 - val_mean_absolute_error: 0.8746\n",
      "Epoch 26/100\n",
      "876/876 - 1s - loss: 1.9154 - mean_absolute_error: 0.7675 - val_loss: 1.8259 - val_mean_absolute_error: 0.7706\n",
      "Epoch 27/100\n",
      "876/876 - 0s - loss: 1.8538 - mean_absolute_error: 0.7541 - val_loss: 1.7705 - val_mean_absolute_error: 0.7271\n",
      "Epoch 28/100\n",
      "876/876 - 0s - loss: 1.8128 - mean_absolute_error: 0.7438 - val_loss: 1.8295 - val_mean_absolute_error: 0.7493\n",
      "Epoch 29/100\n",
      "876/876 - 0s - loss: 1.7567 - mean_absolute_error: 0.7328 - val_loss: 1.7175 - val_mean_absolute_error: 0.7343\n",
      "Epoch 30/100\n",
      "876/876 - 0s - loss: 1.7116 - mean_absolute_error: 0.7214 - val_loss: 1.7133 - val_mean_absolute_error: 0.7211\n",
      "Epoch 31/100\n",
      "876/876 - 0s - loss: 1.6715 - mean_absolute_error: 0.7086 - val_loss: 1.9470 - val_mean_absolute_error: 0.8088\n",
      "Epoch 32/100\n",
      "876/876 - 0s - loss: 1.6420 - mean_absolute_error: 0.7000 - val_loss: 1.5887 - val_mean_absolute_error: 0.7253\n",
      "Epoch 33/100\n",
      "876/876 - 0s - loss: 1.5793 - mean_absolute_error: 0.6864 - val_loss: 1.4843 - val_mean_absolute_error: 0.6743\n",
      "Epoch 34/100\n",
      "876/876 - 0s - loss: 1.5627 - mean_absolute_error: 0.6800 - val_loss: 1.3375 - val_mean_absolute_error: 0.6220\n",
      "Epoch 35/100\n",
      "876/876 - 0s - loss: 1.5095 - mean_absolute_error: 0.6636 - val_loss: 1.6054 - val_mean_absolute_error: 0.7196\n",
      "Epoch 36/100\n",
      "876/876 - 0s - loss: 1.4869 - mean_absolute_error: 0.6574 - val_loss: 1.5532 - val_mean_absolute_error: 0.7216\n",
      "Epoch 37/100\n",
      "876/876 - 0s - loss: 1.4566 - mean_absolute_error: 0.6470 - val_loss: 1.6036 - val_mean_absolute_error: 0.7222\n",
      "Epoch 38/100\n",
      "876/876 - 0s - loss: 1.4117 - mean_absolute_error: 0.6362 - val_loss: 1.3372 - val_mean_absolute_error: 0.6220\n",
      "Epoch 39/100\n",
      "876/876 - 1s - loss: 1.4136 - mean_absolute_error: 0.6354 - val_loss: 1.1638 - val_mean_absolute_error: 0.5663\n",
      "Epoch 40/100\n",
      "876/876 - 0s - loss: 1.3769 - mean_absolute_error: 0.6261 - val_loss: 1.2933 - val_mean_absolute_error: 0.6063\n",
      "Epoch 41/100\n",
      "876/876 - 1s - loss: 1.3518 - mean_absolute_error: 0.6191 - val_loss: 1.2879 - val_mean_absolute_error: 0.6334\n",
      "Epoch 42/100\n",
      "876/876 - 0s - loss: 1.3384 - mean_absolute_error: 0.6174 - val_loss: 1.3610 - val_mean_absolute_error: 0.6682\n",
      "Epoch 43/100\n",
      "876/876 - 0s - loss: 1.3018 - mean_absolute_error: 0.6101 - val_loss: 1.7721 - val_mean_absolute_error: 0.8011\n",
      "Epoch 44/100\n",
      "876/876 - 0s - loss: 1.3042 - mean_absolute_error: 0.6047 - val_loss: 1.4153 - val_mean_absolute_error: 0.6866\n",
      "Epoch 45/100\n",
      "876/876 - 0s - loss: 1.2814 - mean_absolute_error: 0.6013 - val_loss: 1.2559 - val_mean_absolute_error: 0.5957\n",
      "Epoch 46/100\n",
      "876/876 - 0s - loss: 1.2666 - mean_absolute_error: 0.5915 - val_loss: 1.0957 - val_mean_absolute_error: 0.5522\n",
      "Epoch 47/100\n",
      "876/876 - 0s - loss: 1.2520 - mean_absolute_error: 0.5887 - val_loss: 1.0224 - val_mean_absolute_error: 0.5220\n",
      "Epoch 48/100\n",
      "876/876 - 0s - loss: 1.2222 - mean_absolute_error: 0.5877 - val_loss: 1.1692 - val_mean_absolute_error: 0.5956\n",
      "Epoch 49/100\n",
      "876/876 - 0s - loss: 1.2190 - mean_absolute_error: 0.5797 - val_loss: 1.0807 - val_mean_absolute_error: 0.5608\n",
      "Epoch 50/100\n",
      "876/876 - 0s - loss: 1.2149 - mean_absolute_error: 0.5802 - val_loss: 0.9858 - val_mean_absolute_error: 0.5297\n",
      "Epoch 51/100\n",
      "876/876 - 0s - loss: 1.1859 - mean_absolute_error: 0.5740 - val_loss: 1.0387 - val_mean_absolute_error: 0.5172\n",
      "Epoch 52/100\n",
      "876/876 - 0s - loss: 1.1829 - mean_absolute_error: 0.5730 - val_loss: 1.2347 - val_mean_absolute_error: 0.5923\n",
      "Epoch 53/100\n",
      "876/876 - 0s - loss: 1.1518 - mean_absolute_error: 0.5674 - val_loss: 1.6158 - val_mean_absolute_error: 0.6726\n",
      "Epoch 54/100\n",
      "876/876 - 0s - loss: 1.1657 - mean_absolute_error: 0.5666 - val_loss: 1.5091 - val_mean_absolute_error: 0.6701\n",
      "Epoch 55/100\n",
      "876/876 - 0s - loss: 1.1555 - mean_absolute_error: 0.5618 - val_loss: 1.8540 - val_mean_absolute_error: 0.8052\n",
      "Epoch 56/100\n",
      "876/876 - 1s - loss: 1.1224 - mean_absolute_error: 0.5581 - val_loss: 1.1834 - val_mean_absolute_error: 0.5795\n",
      "Epoch 57/100\n",
      "876/876 - 0s - loss: 1.1241 - mean_absolute_error: 0.5561 - val_loss: 1.6481 - val_mean_absolute_error: 0.6600\n",
      "Epoch 58/100\n",
      "876/876 - 0s - loss: 1.1247 - mean_absolute_error: 0.5538 - val_loss: 1.1738 - val_mean_absolute_error: 0.6248\n",
      "Epoch 59/100\n",
      "876/876 - 0s - loss: 1.0962 - mean_absolute_error: 0.5451 - val_loss: 1.1162 - val_mean_absolute_error: 0.5711\n",
      "Epoch 60/100\n",
      "876/876 - 0s - loss: 1.1037 - mean_absolute_error: 0.5470 - val_loss: 1.5870 - val_mean_absolute_error: 0.7199\n",
      "Epoch 61/100\n",
      "876/876 - 0s - loss: 1.0816 - mean_absolute_error: 0.5414 - val_loss: 1.9464 - val_mean_absolute_error: 0.8544\n",
      "Epoch 62/100\n",
      "876/876 - 0s - loss: 1.0851 - mean_absolute_error: 0.5425 - val_loss: 1.2794 - val_mean_absolute_error: 0.6381\n",
      "Epoch 63/100\n",
      "876/876 - 0s - loss: 1.0888 - mean_absolute_error: 0.5402 - val_loss: 1.2104 - val_mean_absolute_error: 0.6162\n",
      "Epoch 64/100\n",
      "876/876 - 0s - loss: 1.0784 - mean_absolute_error: 0.5399 - val_loss: 0.9077 - val_mean_absolute_error: 0.4920\n",
      "Epoch 65/100\n",
      "876/876 - 0s - loss: 1.0553 - mean_absolute_error: 0.5368 - val_loss: 0.8510 - val_mean_absolute_error: 0.4791\n",
      "Epoch 66/100\n",
      "876/876 - 0s - loss: 1.0409 - mean_absolute_error: 0.5294 - val_loss: 1.4634 - val_mean_absolute_error: 0.7259\n",
      "Epoch 67/100\n"
     ]
    },
    {
     "name": "stdout",
     "output_type": "stream",
     "text": [
      "876/876 - 0s - loss: 1.0520 - mean_absolute_error: 0.5333 - val_loss: 1.0634 - val_mean_absolute_error: 0.5781\n",
      "Epoch 68/100\n",
      "876/876 - 0s - loss: 1.0499 - mean_absolute_error: 0.5300 - val_loss: 1.0658 - val_mean_absolute_error: 0.5091\n",
      "Epoch 69/100\n",
      "876/876 - 0s - loss: 1.0218 - mean_absolute_error: 0.5283 - val_loss: 1.0614 - val_mean_absolute_error: 0.5507\n",
      "Epoch 70/100\n",
      "876/876 - 0s - loss: 1.0275 - mean_absolute_error: 0.5273 - val_loss: 0.9101 - val_mean_absolute_error: 0.5078\n",
      "Epoch 71/100\n",
      "876/876 - 1s - loss: 1.0260 - mean_absolute_error: 0.5228 - val_loss: 1.1233 - val_mean_absolute_error: 0.5722\n",
      "Epoch 72/100\n",
      "876/876 - 1s - loss: 1.0059 - mean_absolute_error: 0.5156 - val_loss: 0.8879 - val_mean_absolute_error: 0.4807\n",
      "Epoch 73/100\n",
      "876/876 - 1s - loss: 1.0245 - mean_absolute_error: 0.5206 - val_loss: 1.0953 - val_mean_absolute_error: 0.5650\n",
      "Epoch 74/100\n",
      "876/876 - 1s - loss: 0.9964 - mean_absolute_error: 0.5121 - val_loss: 1.0504 - val_mean_absolute_error: 0.5766\n",
      "Epoch 75/100\n",
      "876/876 - 1s - loss: 0.9699 - mean_absolute_error: 0.5084 - val_loss: 1.3127 - val_mean_absolute_error: 0.6304\n",
      "Epoch 76/100\n",
      "876/876 - 1s - loss: 0.9818 - mean_absolute_error: 0.5102 - val_loss: 0.8493 - val_mean_absolute_error: 0.4580\n",
      "Epoch 77/100\n",
      "876/876 - 1s - loss: 0.9823 - mean_absolute_error: 0.5089 - val_loss: 1.1393 - val_mean_absolute_error: 0.5919\n",
      "Epoch 78/100\n",
      "876/876 - 1s - loss: 0.9712 - mean_absolute_error: 0.5072 - val_loss: 0.8895 - val_mean_absolute_error: 0.4943\n",
      "Epoch 79/100\n",
      "876/876 - 1s - loss: 0.9649 - mean_absolute_error: 0.5059 - val_loss: 0.9053 - val_mean_absolute_error: 0.5141\n",
      "Epoch 80/100\n",
      "876/876 - 0s - loss: 0.9619 - mean_absolute_error: 0.5043 - val_loss: 0.9896 - val_mean_absolute_error: 0.4949\n",
      "Epoch 81/100\n",
      "876/876 - 1s - loss: 0.9676 - mean_absolute_error: 0.5057 - val_loss: 1.1808 - val_mean_absolute_error: 0.6056\n",
      "Epoch 82/100\n",
      "876/876 - 1s - loss: 0.9437 - mean_absolute_error: 0.4963 - val_loss: 0.9994 - val_mean_absolute_error: 0.5769\n",
      "Epoch 83/100\n",
      "876/876 - 1s - loss: 0.9653 - mean_absolute_error: 0.5021 - val_loss: 0.9597 - val_mean_absolute_error: 0.5179\n",
      "Epoch 84/100\n",
      "876/876 - 0s - loss: 0.9395 - mean_absolute_error: 0.4953 - val_loss: 1.3588 - val_mean_absolute_error: 0.6663\n",
      "Epoch 85/100\n",
      "876/876 - 0s - loss: 0.9345 - mean_absolute_error: 0.4996 - val_loss: 1.0641 - val_mean_absolute_error: 0.5414\n",
      "Epoch 86/100\n",
      "876/876 - 1s - loss: 0.9324 - mean_absolute_error: 0.4965 - val_loss: 1.2695 - val_mean_absolute_error: 0.6402\n",
      "Epoch 87/100\n",
      "876/876 - 1s - loss: 0.9362 - mean_absolute_error: 0.4909 - val_loss: 0.8163 - val_mean_absolute_error: 0.4570\n",
      "Epoch 88/100\n",
      "876/876 - 1s - loss: 0.9231 - mean_absolute_error: 0.4920 - val_loss: 0.7791 - val_mean_absolute_error: 0.4407\n",
      "Epoch 89/100\n",
      "876/876 - 1s - loss: 0.9147 - mean_absolute_error: 0.4937 - val_loss: 0.8103 - val_mean_absolute_error: 0.4290\n",
      "Epoch 90/100\n",
      "876/876 - 1s - loss: 0.9171 - mean_absolute_error: 0.4934 - val_loss: 0.8256 - val_mean_absolute_error: 0.4717\n",
      "Epoch 91/100\n",
      "876/876 - 0s - loss: 0.9237 - mean_absolute_error: 0.4891 - val_loss: 0.6945 - val_mean_absolute_error: 0.4126\n",
      "Epoch 92/100\n",
      "876/876 - 1s - loss: 0.9141 - mean_absolute_error: 0.4854 - val_loss: 0.7804 - val_mean_absolute_error: 0.4544\n",
      "Epoch 93/100\n",
      "876/876 - 1s - loss: 0.9194 - mean_absolute_error: 0.4882 - val_loss: 0.9869 - val_mean_absolute_error: 0.5536\n",
      "Epoch 94/100\n",
      "876/876 - 1s - loss: 0.9070 - mean_absolute_error: 0.4872 - val_loss: 0.6662 - val_mean_absolute_error: 0.4011\n",
      "Epoch 95/100\n",
      "876/876 - 1s - loss: 0.9058 - mean_absolute_error: 0.4908 - val_loss: 0.9912 - val_mean_absolute_error: 0.5647\n",
      "Epoch 96/100\n",
      "876/876 - 0s - loss: 0.8972 - mean_absolute_error: 0.4864 - val_loss: 0.7753 - val_mean_absolute_error: 0.4771\n",
      "Epoch 97/100\n",
      "876/876 - 0s - loss: 0.8908 - mean_absolute_error: 0.4879 - val_loss: 0.9014 - val_mean_absolute_error: 0.5008\n",
      "Epoch 98/100\n",
      "876/876 - 1s - loss: 0.8904 - mean_absolute_error: 0.4834 - val_loss: 0.8181 - val_mean_absolute_error: 0.4484\n",
      "Epoch 99/100\n",
      "876/876 - 1s - loss: 0.8785 - mean_absolute_error: 0.4833 - val_loss: 0.8997 - val_mean_absolute_error: 0.4550\n",
      "Epoch 100/100\n",
      "876/876 - 0s - loss: 0.8767 - mean_absolute_error: 0.4804 - val_loss: 0.6876 - val_mean_absolute_error: 0.4463\n"
     ]
    }
   ],
   "source": [
    "batch_size = 32\n",
    "\n",
    "history = model.fit(\n",
    "                X_train_sc,\n",
    "                y_train,\n",
    "                batch_size = batch_size,\n",
    "                epochs=100,\n",
    "                steps_per_epoch=X_train.shape[0]//batch_size,\n",
    "                validation_batch_size=batch_size,\n",
    "                validation_data=(X_test_sc,y_test),\n",
    "                validation_steps = X_test.shape[0]//batch_size,\n",
    "                verbose=2\n",
    "            )"
   ]
  },
  {
   "cell_type": "code",
   "execution_count": 215,
   "metadata": {},
   "outputs": [
    {
     "data": {
      "image/png": "[encoded data removed]",
      "text/plain": [
       "<Figure size 1080x432 with 1 Axes>"
      ]
     },
     "metadata": {
      "needs_background": "light"
     },
     "output_type": "display_data"
    }
   ],
   "source": [
    "plt.figure(figsize=(15,6))\n",
    "plt.plot(history.history['loss'])\n",
    "plt.plot(history.history['val_loss'])\n",
    "plt.title('model loss')\n",
    "plt.ylabel('loss')\n",
    "plt.xlabel('epoch')\n",
    "plt.ylim([0,15])\n",
    "plt.legend(['train', 'test'], loc='upper left')\n",
    "plt.show()"
   ]
  },
  {
   "cell_type": "code",
   "execution_count": 216,
   "metadata": {},
   "outputs": [
    {
     "name": "stdout",
     "output_type": "stream",
     "text": [
      "RMSE:  0.8291987625379571\n",
      "MSE:  0.6875705877944793\n",
      "MAE:  0.4462717973730063\n",
      "R Squared:  0.9993951288147249\n"
     ]
    }
   ],
   "source": [
    "y_pred = model.predict(X_test_sc)\n",
    "y_pred = y_pred.reshape(-1,)\n",
    "print(\"RMSE: \",mean_squared_error(y_test,y_pred,squared=False))\n",
    "print(\"MSE: \",mean_squared_error(y_test,y_pred))\n",
    "print(\"MAE: \",mean_absolute_error(y_test,y_pred))\n",
    "print(\"R Squared: \",r2_score(y_test,y_pred))"
   ]
  },
  {
   "cell_type": "markdown",
   "metadata": {},
   "source": [
    "**Conclusion:** Model with this architecture gives better results in terms of RMSE and MAE (as the target variable contains outliers, it is better to consider MAE also)."
   ]
  },
  {
   "cell_type": "code",
   "execution_count": 217,
   "metadata": {},
   "outputs": [],
   "source": [
    "from sklearn.model_selection import KFold\n",
    "import warnings\n",
    "warnings.filterwarnings(\"ignore\")\n",
    "tf.get_logger().setLevel('ERROR')\n",
    "\n",
    "kf = KFold(n_splits=5) "
   ]
  },
  {
   "cell_type": "markdown",
   "metadata": {},
   "source": [
    "### 5 - Fold Cross Validation\n",
    "- Model trained on 5 folds to determine what should be the optimum number of epochs by taking an average of loss function across 5 folds. "
   ]
  },
  {
   "cell_type": "code",
   "execution_count": 218,
   "metadata": {},
   "outputs": [
    {
     "name": "stdout",
     "output_type": "stream",
     "text": [
      "Training fold: 1\n",
      "RMSE:  1.7438076788745722\n",
      "MSE:  3.040865220901923\n",
      "MAE:  0.8308420082355199\n",
      "R Squared:  0.9979751225018251\n",
      "---------------------------------------\n",
      "Training fold: 2\n",
      "RMSE:  1.1817651155460867\n",
      "MSE:  1.3965687883216553\n",
      "MAE:  0.536937768176266\n",
      "R Squared:  0.9987409688452329\n",
      "---------------------------------------\n",
      "Training fold: 3\n",
      "RMSE:  0.9520622344630874\n",
      "MSE:  0.9064224982908466\n",
      "MAE:  0.5102980397328666\n",
      "R Squared:  0.9990072544117367\n",
      "---------------------------------------\n",
      "Training fold: 4\n",
      "RMSE:  0.6843241217586254\n",
      "MSE:  0.468299503620714\n",
      "MAE:  0.3151977216234626\n",
      "R Squared:  0.9995235710918843\n",
      "---------------------------------------\n",
      "Training fold: 5\n",
      "RMSE:  1.059220237056975\n",
      "MSE:  1.1219475105910344\n",
      "MAE:  0.65539960395936\n",
      "R Squared:  0.9988600388715624\n",
      "---------------------------------------\n"
     ]
    }
   ],
   "source": [
    "scaler = StandardScaler()\n",
    "performance = []\n",
    "models = []\n",
    "\n",
    "for fold, (train,val) in enumerate(kf.split(X=X,y=y)):\n",
    "    print(f\"Training fold: {fold+1}\")\n",
    "\n",
    "    X_train = X[train,:]\n",
    "    y_train = y[train]\n",
    "    \n",
    "    X_val = X[val,:]\n",
    "    y_val = y[val]\n",
    "    \n",
    "    X_train_sc = scaler.fit_transform(X_train)\n",
    "    X_val_sc = scaler.transform(X_val)\n",
    "    \n",
    "    layers = [32,24]\n",
    "    n = X_train.shape[1]\n",
    "    model = build_model(layers,n,0.001)\n",
    "    \n",
    "    batch_size = 32\n",
    "\n",
    "    history = model.fit(\n",
    "                    X_train_sc,\n",
    "                    y_train,\n",
    "                    batch_size = batch_size,\n",
    "                    epochs=100,\n",
    "                    steps_per_epoch=X_train_sc.shape[0]//batch_size,\n",
    "                    validation_batch_size=batch_size,\n",
    "                    validation_data=(X_val_sc,y_val),\n",
    "                    validation_steps = X_val_sc.shape[0]//batch_size,\n",
    "                    verbose=0\n",
    "                )\n",
    "    \n",
    "    performance.append(history)\n",
    "    models.append(model)\n",
    "    \n",
    "    y_pred = model.predict(X_val_sc)\n",
    "    print(\"RMSE: \",mean_squared_error(y_val,y_pred,squared=False))\n",
    "    print(\"MSE: \",mean_squared_error(y_val,y_pred))\n",
    "    print(\"MAE: \",mean_absolute_error(y_val,y_pred))\n",
    "    print(\"R Squared: \",r2_score(y_val,y_pred))\n",
    "    print(\"---------------------------------------\")"
   ]
  },
  {
   "cell_type": "markdown",
   "metadata": {},
   "source": [
    "### Average Loss"
   ]
  },
  {
   "cell_type": "code",
   "execution_count": 219,
   "metadata": {},
   "outputs": [],
   "source": [
    "avg_train_loss = []\n",
    "avg_val_loss = []\n",
    "\n",
    "for i in range(len(performance)):\n",
    "    avg_train_loss.append(performance[i].history['loss'])\n",
    "    avg_val_loss.append(performance[i].history['val_loss'])\n",
    "    \n",
    "avg_train_loss = np.array(avg_train_loss).mean(axis=0)\n",
    "avg_val_loss = np.array(avg_val_loss).mean(axis=0)"
   ]
  },
  {
   "cell_type": "code",
   "execution_count": 223,
   "metadata": {},
   "outputs": [
    {
     "data": {
      "image/png": "[encoded data removed]",
      "text/plain": [
       "<Figure size 1080x432 with 1 Axes>"
      ]
     },
     "metadata": {
      "needs_background": "light"
     },
     "output_type": "display_data"
    }
   ],
   "source": [
    "plt.figure(figsize=(15,6))\n",
    "plt.plot(avg_train_loss)\n",
    "plt.plot(avg_val_loss)\n",
    "plt.title('Average Model Loss across 5 Folds')\n",
    "plt.ylabel('Average Loss')\n",
    "plt.xlabel('Epoch')\n",
    "plt.ylim([0,15])\n",
    "plt.legend(['train', 'test'], loc='upper left')\n",
    "plt.show()"
   ]
  },
  {
   "cell_type": "markdown",
   "metadata": {},
   "source": [
    "**Conclusion:** Training can be stopped at some point between 80-85 epochs "
   ]
  },
  {
   "cell_type": "code",
   "execution_count": null,
   "metadata": {},
   "outputs": [],
   "source": []
  }
 ],
 "metadata": {
  "kernelspec": {
   "display_name": "Python 3",
   "language": "python",
   "name": "python3"
  },
  "language_info": {
   "codemirror_mode": {
    "name": "ipython",
    "version": 3
   },
   "file_extension": ".py",
   "mimetype": "text/x-python",
   "name": "python",
   "nbconvert_exporter": "python",
   "pygments_lexer": "ipython3",
   "version": "3.7.3"
  }
 },
 "nbformat": 4,
 "nbformat_minor": 4
}
