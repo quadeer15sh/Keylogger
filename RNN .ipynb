{
 "cells": [
  {
   "cell_type": "code",
   "execution_count": 45,
   "metadata": {},
   "outputs": [],
   "source": [
    "import numpy as np "
   ]
  },
  {
   "cell_type": "code",
   "execution_count": 52,
   "metadata": {},
   "outputs": [],
   "source": [
    "X = np.random.randn(100,32)\n",
    "W = np.random.randn(64,32)\n",
    "U = np.random.randn(64, 64)\n",
    "b = np.random.randn(64,)"
   ]
  },
  {
   "cell_type": "code",
   "execution_count": 53,
   "metadata": {},
   "outputs": [],
   "source": [
    "state = np.zeros(64,)\n",
    "outputs = []\n",
    "for x in X:\n",
    "    output = np.tanh(np.dot(W,x) + np.dot(U,state) + b)\n",
    "    state = output \n",
    "    outputs.append(output)"
   ]
  },
  {
   "cell_type": "code",
   "execution_count": 58,
   "metadata": {},
   "outputs": [
    {
     "data": {
      "text/plain": [
       "array([[ 0.98889765,  0.99636517,  0.84250618, ...,  1.        ,\n",
       "         0.10128648, -0.99905537],\n",
       "       [ 0.42272171,  0.99877496, -1.        , ..., -0.07327745,\n",
       "        -0.99999981, -0.89437372],\n",
       "       [ 0.99993933,  1.        ,  0.99997784, ...,  1.        ,\n",
       "        -0.99995682,  1.        ],\n",
       "       ...,\n",
       "       [ 0.99999845, -1.        , -1.        , ..., -0.99999999,\n",
       "        -0.94342616,  0.99472124],\n",
       "       [-0.99955484, -1.        ,  0.99753339, ..., -0.9999136 ,\n",
       "        -0.99680481, -0.99935446],\n",
       "       [-0.99999999,  0.99978718,  0.99999626, ..., -0.65982545,\n",
       "        -0.99936796, -1.        ]])"
      ]
     },
     "execution_count": 58,
     "metadata": {},
     "output_type": "execute_result"
    }
   ],
   "source": [
    "np.stack(outputs,axis=0)"
   ]
  },
  {
   "cell_type": "code",
   "execution_count": 59,
   "metadata": {},
   "outputs": [
    {
     "data": {
      "text/plain": [
       "array([[ 0.98889765,  0.99636517,  0.84250618, ...,  1.        ,\n",
       "         0.10128648, -0.99905537],\n",
       "       [ 0.42272171,  0.99877496, -1.        , ..., -0.07327745,\n",
       "        -0.99999981, -0.89437372],\n",
       "       [ 0.99993933,  1.        ,  0.99997784, ...,  1.        ,\n",
       "        -0.99995682,  1.        ],\n",
       "       ...,\n",
       "       [ 0.99999845, -1.        , -1.        , ..., -0.99999999,\n",
       "        -0.94342616,  0.99472124],\n",
       "       [-0.99955484, -1.        ,  0.99753339, ..., -0.9999136 ,\n",
       "        -0.99680481, -0.99935446],\n",
       "       [-0.99999999,  0.99978718,  0.99999626, ..., -0.65982545,\n",
       "        -0.99936796, -1.        ]])"
      ]
     },
     "execution_count": 59,
     "metadata": {},
     "output_type": "execute_result"
    }
   ],
   "source": [
    "np.vstack(outputs)"
   ]
  },
  {
   "cell_type": "code",
   "execution_count": null,
   "metadata": {},
   "outputs": [],
   "source": []
  }
 ],
 "metadata": {
  "kernelspec": {
   "display_name": "Python 3",
   "language": "python",
   "name": "python3"
  },
  "language_info": {
   "codemirror_mode": {
    "name": "ipython",
    "version": 3
   },
   "file_extension": ".py",
   "mimetype": "text/x-python",
   "name": "python",
   "nbconvert_exporter": "python",
   "pygments_lexer": "ipython3",
   "version": "3.7.3"
  }
 },
 "nbformat": 4,
 "nbformat_minor": 4
}
